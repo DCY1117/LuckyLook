{
 "cells": [
  {
   "cell_type": "markdown",
   "metadata": {},
   "source": [
    "** DOCUMENTATION **\n",
    "\n",
    "\n",
    "Python library repo: https://github.com/gijswobben/pymed\n",
    "\n",
    "\n",
    "Code example in Python: https://stackoverflow.com/questions/57053378/query-pubmed-with-python-how-to-get-all-article-details-from-query-to-pandas-d (this is very useful!)\n",
    "\n",
    "\n",
    "Code example in R: https://stackoverflow.com/questions/64103323/extracting-affiliation-information-from-pubmed-search-string-in-r\n",
    "\n",
    "\n",
    "Other package in R: https://www.data-pulse.com/projects/Rlibs/vignettes/easyPubMed_03_retmax_example.html\n",
    "\n",
    "\n",
    "Other package in R: https://cran.r-project.org/web/packages/easyPubMed/vignettes/getting_started_with_easyPubMed.html\n",
    "\n",
    "\n",
    "Other useful code to sort the 'None' in the list: https://stackoverflow.com/questions/9327158/get-first-element-of-list-if-list-is-not-none-python\n",
    "\n",
    "\n",
    "\n",
    "\n",
    "The aim of this notebook is to:\n",
    "1. define a search query.\n",
    "2. apply the search query to PubMed.\n",
    "3. extract the results from the search query.\n",
    "4. extract information from each result (where each row is a PubMed article). \n",
    "5. save the extracted information in a CSV."
   ]
  },
  {
   "cell_type": "code",
   "execution_count": 469,
   "metadata": {},
   "outputs": [],
   "source": [
    "### LOAD LIBRARIES\n",
    "\n",
    "\n",
    "from pymed import PubMed\n",
    "import pandas as pd"
   ]
  },
  {
   "cell_type": "code",
   "execution_count": 470,
   "metadata": {},
   "outputs": [],
   "source": [
    "### GENERATE 'pubmed' OBJECT TO RUN THE SEARCH LATER.\n",
    "\n",
    "\n",
    "pubmed = PubMed(tool = 'PubMedSearch')"
   ]
  },
  {
   "cell_type": "code",
   "execution_count": 471,
   "metadata": {},
   "outputs": [],
   "source": [
    "### DEFINE THE SEARCH QUERY.\n",
    "\n",
    "#query = '((\"diabetes\" AND (\"USA\" OR \"United States\" OR \"United States of America\" OR \"US\")))'\n",
    "#query = '((\"2022/01/01\"[Date - Create] : \"3000\"[Date - Create]))'\n",
    "#query = '(2017/01/01[Date - Entry] : 2021/12/31[Date - Entry])'\n",
    "\n",
    "\n",
    "\n",
    "#query = '((\"diabetes\" AND \"Brazil\"))'\n",
    "#query = '((\"diabetes\" AND \"Mexico\"))'\n",
    "#query = '((\"diabetes\" AND \"Chile\"))'\n",
    "#query = '((\"diabetes\" AND \"Argentina\"))'\n",
    "#query = '((\"diabetes\" AND \"Peru\"))'\n",
    "#query = '((\"diabetes\" AND \"Colombia\"))'\n",
    "#query = '((\"diabetes\" AND \"Venezuela\"))'\n",
    "#query = '((\"diabetes\" AND \"Ecuador\"))'\n",
    "#query = '((\"diabetes\" AND \"Guatemala\"))'\n",
    "#query = '((\"diabetes\" AND \"Bolivia\"))'\n",
    "#query = '((\"diabetes\" AND \"Antigua and Barbuda\"))'\n",
    "#query = '((\"diabetes\" AND \"Aruba\"))'\n",
    "#query = '((\"diabetes\" AND \"The Bahamas\"))'\n",
    "#query = '((\"diabetes\" AND \"Barbados\"))'\n",
    "#query = '((\"diabetes\" AND \"Belize\"))'\n",
    "#query = '((\"diabetes\" AND \"British Virgin Islands\"))'\n",
    "#query = '((\"diabetes\" AND \"Cayman Islands\"))'\n",
    "#query = '((\"diabetes\" AND \"Costa Rica\"))'\n",
    "#query = '((\"diabetes\" AND \"Cuba\"))'\n",
    "#query = '((\"diabetes\" AND \"Curacao\"))'\n",
    "#query = '((\"diabetes\" AND \"Dominica\"))'\n",
    "#query = '((\"diabetes\" AND \"Dominican Republic\"))'\n",
    "#query = '((\"diabetes\" AND \"El Salvador\"))'\n",
    "#query = '((\"diabetes\" AND \"Grenada\"))'\n",
    "#query = '((\"diabetes\" AND \"Guyana\"))'\n",
    "#query = '((\"diabetes\" AND \"Haiti\"))'\n",
    "#query = '((\"diabetes\" AND \"Honduras\"))'\n",
    "#query = '((\"diabetes\" AND \"Jamaica\"))'\n",
    "#query = '((\"diabetes\" AND \"Nicaragua\"))'\n",
    "#query = '((\"diabetes\" AND \"Panama\"))'\n",
    "#query = '((\"diabetes\" AND \"Paraguay\"))'\n",
    "#query = '((\"diabetes\" AND \"Puerto Rico\"))'\n",
    "#query = '((\"diabetes\" AND \"Sint Maarten\"))'\n",
    "#query = '((\"diabetes\" AND (\"St. Kitts and Nevis\" OR \"Saint Kitts and Nevis\")))'\n",
    "#query = '((\"diabetes\" AND (\"St. Lucia\" OR \"Saint Lucia\")))'\n",
    "#query = '((\"diabetes\" AND (\"St. Martin\" OR \"Saint Martin\")))'\n",
    "#query = '((\"diabetes\" AND (\"St. Vincent and the Grenadines\" OR \"Saint Vincent and the Grenadines\")))'\n",
    "#query = '((\"diabetes\" AND \"Suriname\"))'\n",
    "#query = '((\"diabetes\" AND \"Trinidad and Tobago\"))'\n",
    "#query = '((\"diabetes\" AND \"Turks and Caicos Islands\"))'\n",
    "#query = '((\"diabetes\" AND \"Uruguay\"))'\n",
    "#query = '((\"diabetes\" AND \"US Virgin Islands\"))'\n",
    "\n",
    "\n",
    "\n",
    "#query = '((\"2018/01/01\"[Date - Create] : \"3000\"[Date - Create]) AND \"Brazil\")'\n",
    "#query = '((\"2018/01/01\"[Date - Create] : \"3000\"[Date - Create]) AND \"Mexico\")'\n",
    "#query = '((\"2018/01/01\"[Date - Create] : \"3000\"[Date - Create]) AND \"Chile\")'\n",
    "#query = '((\"2018/01/01\"[Date - Create] : \"3000\"[Date - Create]) AND \"Argentina\")'\n",
    "#query = '((\"2018/01/01\"[Date - Create] : \"3000\"[Date - Create]) AND \"Peru\")'\n",
    "#query = '((\"2018/01/01\"[Date - Create] : \"3000\"[Date - Create]) AND \"Colombia\")'\n",
    "#query = '((\"2018/01/01\"[Date - Create] : \"3000\"[Date - Create]) AND \"Venezuela\")'\n",
    "#query = '((\"2018/01/01\"[Date - Create] : \"3000\"[Date - Create]) AND \"Ecuador\")'\n",
    "#query = '((\"2018/01/01\"[Date - Create] : \"3000\"[Date - Create]) AND \"Guatemala\")'\n",
    "#query = '((\"2018/01/01\"[Date - Create] : \"3000\"[Date - Create]) AND \"Bolivia\")'\n",
    "#query = '((\"2018/01/01\"[Date - Create] : \"3000\"[Date - Create]) AND \"Antigua and Barbuda\")'\n",
    "#query = '((\"2018/01/01\"[Date - Create] : \"3000\"[Date - Create]) AND \"Aruba\")'\n",
    "#query = '((\"2018/01/01\"[Date - Create] : \"3000\"[Date - Create]) AND \"The Bahamas\")'\n",
    "#query = '((\"2018/01/01\"[Date - Create] : \"3000\"[Date - Create]) AND \"Barbados\")'\n",
    "#query = '((\"2018/01/01\"[Date - Create] : \"3000\"[Date - Create]) AND \"Belize\")'\n",
    "#query = '((\"2018/01/01\"[Date - Create] : \"3000\"[Date - Create]) AND \"British Virgin Islands\")'\n",
    "#query = '((\"2018/01/01\"[Date - Create] : \"3000\"[Date - Create]) AND \"Cayman Islands\")'\n",
    "#query = '((\"2018/01/01\"[Date - Create] : \"3000\"[Date - Create]) AND \"Costa Rica\")'\n",
    "#query = '((\"2018/01/01\"[Date - Create] : \"3000\"[Date - Create]) AND \"Cuba\")'\n",
    "#query = '((\"2018/01/01\"[Date - Create] : \"3000\"[Date - Create]) AND \"Curacao\")'\n",
    "#query = '((\"2018/01/01\"[Date - Create] : \"3000\"[Date - Create]) AND \"Dominica\")'\n",
    "#query = '((\"2018/01/01\"[Date - Create] : \"3000\"[Date - Create]) AND \"Dominican Republic\")'\n",
    "#query = '((\"2018/01/01\"[Date - Create] : \"3000\"[Date - Create]) AND \"El Salvador\")'\n",
    "#query = '((\"2018/01/01\"[Date - Create] : \"3000\"[Date - Create]) AND \"Grenada\")'\n",
    "#query = '((\"2018/01/01\"[Date - Create] : \"3000\"[Date - Create]) AND \"Guyana\")'\n",
    "#query = '((\"2018/01/01\"[Date - Create] : \"3000\"[Date - Create]) AND \"Haiti\")'\n",
    "#query = '((\"2018/01/01\"[Date - Create] : \"3000\"[Date - Create]) AND \"Honduras\")'\n",
    "#query = '((\"2018/01/01\"[Date - Create] : \"3000\"[Date - Create]) AND \"Jamaica\")'\n",
    "#query = '((\"2018/01/01\"[Date - Create] : \"3000\"[Date - Create]) AND \"Nicaragua\")'\n",
    "#query = '((\"2018/01/01\"[Date - Create] : \"3000\"[Date - Create]) AND \"Panama\")'\n",
    "#query = '((\"2018/01/01\"[Date - Create] : \"3000\"[Date - Create]) AND \"Paraguay\")'\n",
    "#query = '((\"2018/01/01\"[Date - Create] : \"3000\"[Date - Create]) AND \"Puerto Rico\")'\n",
    "#query = '((\"2018/01/01\"[Date - Create] : \"3000\"[Date - Create]) AND \"Sint Maarten\")'\n",
    "#query = '((\"2018/01/01\"[Date - Create] : \"3000\"[Date - Create]) AND (\"St. Kitts and Nevis\" OR \"Saint Kitts and Nevis\"))'\n",
    "#query = '((\"2018/01/01\"[Date - Create] : \"3000\"[Date - Create]) AND (\"St. Lucia\" OR \"Saint Lucia\"))'\n",
    "#query = '((\"2018/01/01\"[Date - Create] : \"3000\"[Date - Create]) AND (\"St. Martin\" OR \"Saint Martin\"))'\n",
    "#query = '((\"2018/01/01\"[Date - Create] : \"3000\"[Date - Create]) AND (\"St. Vincent and the Grenadines\" OR \"Saint Vincent and the Grenadines\"))'\n",
    "#query = '((\"2018/01/01\"[Date - Create] : \"3000\"[Date - Create]) AND \"Suriname\")'\n",
    "#query = '((\"2018/01/01\"[Date - Create] : \"3000\"[Date - Create]) AND \"Trinidad and Tobago\")'\n",
    "#query = '((\"2018/01/01\"[Date - Create] : \"3000\"[Date - Create]) AND \"Turks and Caicos Islands\")'\n",
    "#query = '((\"2018/01/01\"[Date - Create] : \"3000\"[Date - Create]) AND \"Uruguay\")'\n",
    "#query = '((\"2018/01/01\"[Date - Create] : \"3000\"[Date - Create]) AND \"US Virgin Islands\")'"
   ]
  },
  {
   "cell_type": "code",
   "execution_count": 472,
   "metadata": {},
   "outputs": [],
   "source": [
    "### RUN THE SEARCH AND SPECIFY THE MAXIMUM NUMBER OF RESULTS YOU WANT.\n",
    "\n",
    "\n",
    "results = pubmed.query(query, max_results = 1000000)"
   ]
  },
  {
   "cell_type": "code",
   "execution_count": 473,
   "metadata": {},
   "outputs": [],
   "source": [
    "### CREATE EMPYT LISTS WHERE YOU WILL:\n",
    "### I- SAVE THE RESULTS FROM THE QUERY;\n",
    "### II- EXTRACT THE INFORMATION NEEDED FROM EACH ARTICLE IN PUBMED.\n",
    "\n",
    "\n",
    "articleList = []\n",
    "articleInfo = []"
   ]
  },
  {
   "cell_type": "code",
   "execution_count": 474,
   "metadata": {},
   "outputs": [],
   "source": [
    "### EXTRACT EACH RESULT FROM THE SEARCH QUERY ANS SAVE IT IN A LIST 'articleList'.\n",
    "\n",
    "\n",
    "for article in results:\n",
    "    articleDict = article.toDict()\n",
    "    articleList.append(articleDict)"
   ]
  },
  {
   "cell_type": "code",
   "execution_count": 475,
   "metadata": {},
   "outputs": [
    {
     "data": {
      "text/plain": [
       "80"
      ]
     },
     "execution_count": 475,
     "metadata": {},
     "output_type": "execute_result"
    }
   ],
   "source": [
    "### DOUBLE CHECK THE NUMBER OF RESULTS FROM THE SEARCH. IT SHOULD BE EQUAL TO THE MAXIMUM NUMBER SPECIFIED OR LESS (IF THERE WERE FEWER ARTICLES THAN THE MAX SPECIFIED).\n",
    "\n",
    "\n",
    "len(articleList)"
   ]
  },
  {
   "cell_type": "code",
   "execution_count": 476,
   "metadata": {},
   "outputs": [],
   "source": [
    "### IN SOME OF THE DICTIONARIES IN THE LIST, THERE MAY BE KEYS WITH EMPTY VALUES.\n",
    "### LET'S REPLACE THOSE EMPTY SLOTS WITH 'None', SO THAT THEY GET EXTRACTED LATER.\n",
    "\n",
    "\n",
    "for i in range(len(articleList)):\n",
    "  articleList[i] = {k: None if not v else v for k, v in articleList[i].items()}"
   ]
  },
  {
   "cell_type": "code",
   "execution_count": 477,
   "metadata": {},
   "outputs": [
    {
     "name": "stdout",
     "output_type": "stream",
     "text": [
      "80\n"
     ]
    }
   ],
   "source": [
    "### CREATE A LIST WITH ALL THE PUBMED IDS. THERE SHOULD BE AS MANY AS RESULTS FROM THE SEARCH QUERY.\n",
    "\n",
    "\n",
    "PubMedID_list = []\n",
    "for article in articleList:\n",
    "    PubMedID_list.append(article['pubmed_id'].partition('\\n')[0])\n",
    "\n",
    "\n",
    "print(len(PubMedID_list))"
   ]
  },
  {
   "cell_type": "code",
   "execution_count": 478,
   "metadata": {},
   "outputs": [
    {
     "name": "stdout",
     "output_type": "stream",
     "text": [
      "  pubmed_id                                              title  \\\n",
      "0  35858059  Persistence of a sessile benthic organism prom...   \n",
      "1  35833604  Disruptions in Oncology Care Confronted by Pat...   \n",
      "2  35588174  A Cross-Sectional Household Survey in the US V...   \n",
      "3  35516524  A biological condition gradient for Caribbean ...   \n",
      "4  35501329  Portfolio effects and functional redundancy co...   \n",
      "\n",
      "                                            keywords  \\\n",
      "0  [Caribbean, Millepora, coral, phenotypic plast...   \n",
      "1  [Oncology care, Puerto Rico, US Virgin Islands...   \n",
      "2  [Management practices, St. Croix, St. John, St...   \n",
      "3  [Biocriteria, Biological Condition Gradient (B...   \n",
      "4                                             [None]   \n",
      "\n",
      "                                             journal  \\\n",
      "0                   Proceedings. Biological sciences   \n",
      "1  Cancer control : journal of the Moffitt Cancer...   \n",
      "2  Journal of the American Mosquito Control Assoc...   \n",
      "3                              Ecological indicators   \n",
      "4                                 Scientific reports   \n",
      "\n",
      "                                            abstract  \\\n",
      "0  Sessile organisms exploit a life-history strat...   \n",
      "1  In September 2017, hurricanes Irma and Maria a...   \n",
      "2  Most residences in the United States Virgin Is...   \n",
      "3  The Biological Condition Gradient (BCG) is a c...   \n",
      "4  Declines in abundance of scleractinian corals ...   \n",
      "\n",
      "                                          copyrights  \\\n",
      "0                                               None   \n",
      "1                                               None   \n",
      "2  Copyright © 2022 by The American Mosquito Cont...   \n",
      "3                                               None   \n",
      "4                             © 2022. The Author(s).   \n",
      "\n",
      "                             doi publication_date  \n",
      "0         10.1098/rspb.2022.0952       2022-07-21  \n",
      "1      10.1177/10732748221114691       2022-07-15  \n",
      "2                10.2987/21-7022       2022-05-20  \n",
      "3  10.1016/j.ecolind.2022.108576       2022-05-07  \n",
      "4     10.1038/s41598-022-10478-4       2022-05-03  \n"
     ]
    }
   ],
   "source": [
    "### IN 'articleList' WE HAVE SAVED EACH RESULT FROM THE QUERY SEARCH AS A LIST. FROM EACH OF THESE LISTS, EXTRACT THE INFORMATION WE WANT.\n",
    "### CHECK WHAT WE DID TO EXTRACT THE INFORMATION WHERE IT WAS 'None'.\n",
    "\n",
    "\n",
    "for article in articleList:\n",
    "    pubmedId = article['pubmed_id'].partition('\\n')[0]\n",
    "    #print(pubmedId)\n",
    "    articleInfo.append({u'pubmed_id':pubmedId,\n",
    "                        u'title':article['title'],\n",
    "                        u'keywords':(article.get('keywords') or [None]),\n",
    "                        u'journal':(article.get('journal') or [None]),\n",
    "                        u'abstract':article['abstract'],\n",
    "                        u'copyrights':article['copyrights'],\n",
    "                        u'doi':article['doi'],\n",
    "                        u'publication_date':article['publication_date']\n",
    "                        #u'authors':article['authors']\n",
    "                        })\n",
    "\n",
    "\n",
    "articlesPD = pd.DataFrame.from_dict(articleInfo)\n",
    "print(articlesPD.head(5))"
   ]
  },
  {
   "cell_type": "code",
   "execution_count": 479,
   "metadata": {},
   "outputs": [],
   "source": [
    "### IN THE DATAFRAME WE JUST CREATED WITH THE INFORMATION FROM EACH RESULT, LET'S JUST KEEP THE PUBMED IDs WE KNOW THERE SHOULD BE FROM THE LIST WE CREATED.\n",
    "\n",
    "\n",
    "articlesPD = articlesPD[articlesPD['pubmed_id'].isin(PubMedID_list)]"
   ]
  },
  {
   "cell_type": "code",
   "execution_count": 480,
   "metadata": {},
   "outputs": [
    {
     "name": "stdout",
     "output_type": "stream",
     "text": [
      "(80, 8)\n"
     ]
    }
   ],
   "source": [
    "### THE NUMBER OF ROWS IN THE DATAFRAME WITH THE INFORMATION FROM THE RESULTS SHOULD BE EQUAL TO THE NUMBER OF RESULTS (I.E., ONE ROW PER PAPER).\n",
    "\n",
    "\n",
    "print(articlesPD.shape)"
   ]
  },
  {
   "cell_type": "code",
   "execution_count": 481,
   "metadata": {},
   "outputs": [],
   "source": [
    "### SAVE THE EXTRACTED INFORMATION, AS A CSV, IN YOUR LOCAL PC.\n",
    "\n",
    "\n",
    "#articlesPD.to_csv('/Users/manwest/Downloads/Brazil.csv', index = False)\n",
    "#articlesPD.to_csv('/Users/manwest/Downloads/Mexico.csv', index = False)\n",
    "#articlesPD.to_csv('/Users/manwest/Downloads/Chile.csv', index = False)\n",
    "#articlesPD.to_csv('/Users/manwest/Downloads/Argentina.csv', index = False)\n",
    "#articlesPD.to_csv('/Users/manwest/Downloads/Peru.csv', index = False)\n",
    "#articlesPD.to_csv('/Users/manwest/Downloads/Colombia.csv', index = False)\n",
    "#articlesPD.to_csv('/Users/manwest/Downloads/Venezuela.csv', index = False)\n",
    "#articlesPD.to_csv('/Users/manwest/Downloads/Ecuador.csv', index = False)\n",
    "#articlesPD.to_csv('/Users/manwest/Downloads/Guatemala.csv', index = False)\n",
    "#articlesPD.to_csv('/Users/manwest/Downloads/Bolivia.csv', index = False)\n",
    "#articlesPD.to_csv('/Users/manwest/Downloads/Antigua and Barbuda.csv', index = False)\n",
    "#articlesPD.to_csv('/Users/manwest/Downloads/Aruba.csv', index = False)\n",
    "#articlesPD.to_csv('/Users/manwest/Downloads/The Bahamas.csv', index = False)\n",
    "#articlesPD.to_csv('/Users/manwest/Downloads/Barbados.csv', index = False)\n",
    "#articlesPD.to_csv('/Users/manwest/Downloads/Belize.csv', index = False)\n",
    "#articlesPD.to_csv('/Users/manwest/Downloads/British Virgin Islands.csv', index = False)\n",
    "#articlesPD.to_csv('/Users/manwest/Downloads/Cayman Islands.csv', index = False)\n",
    "#articlesPD.to_csv('/Users/manwest/Downloads/Costa Rica.csv', index = False)\n",
    "#articlesPD.to_csv('/Users/manwest/Downloads/Cuba.csv', index = False)\n",
    "#articlesPD.to_csv('/Users/manwest/Downloads/Curacao.csv', index = False)\n",
    "#articlesPD.to_csv('/Users/manwest/Downloads/Dominica.csv', index = False)\n",
    "#articlesPD.to_csv('/Users/manwest/Downloads/Dominican Republic.csv', index = False)\n",
    "#articlesPD.to_csv('/Users/manwest/Downloads/El Salvador.csv', index = False)\n",
    "#articlesPD.to_csv('/Users/manwest/Downloads/Grenada.csv', index = False)\n",
    "#articlesPD.to_csv('/Users/manwest/Downloads/Guyana.csv', index = False)\n",
    "#articlesPD.to_csv('/Users/manwest/Downloads/Haiti.csv', index = False)\n",
    "#articlesPD.to_csv('/Users/manwest/Downloads/Honduras.csv', index = False)\n",
    "#articlesPD.to_csv('/Users/manwest/Downloads/Jamaica.csv', index = False)\n",
    "#articlesPD.to_csv('/Users/manwest/Downloads/Nicaragua.csv', index = False)\n",
    "#articlesPD.to_csv('/Users/manwest/Downloads/Panama.csv', index = False)\n",
    "#articlesPD.to_csv('/Users/manwest/Downloads/Paraguay.csv', index = False)\n",
    "#articlesPD.to_csv('/Users/manwest/Downloads/Puerto Rico.csv', index = False)\n",
    "#articlesPD.to_csv('/Users/manwest/Downloads/Sint Maarten.csv', index = False)\n",
    "#articlesPD.to_csv('/Users/manwest/Downloads/St Kitts and Nevis.csv', index = False)\n",
    "#articlesPD.to_csv('/Users/manwest/Downloads/St Lucia.csv', index = False)\n",
    "#articlesPD.to_csv('/Users/manwest/Downloads/St Martin.csv', index = False)\n",
    "#articlesPD.to_csv('/Users/manwest/Downloads/St Vincent and the Grenadines.csv', index = False)\n",
    "#articlesPD.to_csv('/Users/manwest/Downloads/Suriname.csv', index = False)\n",
    "#articlesPD.to_csv('/Users/manwest/Downloads/Trinidad and Tobago.csv', index = False)\n",
    "#articlesPD.to_csv('/Users/manwest/Downloads/Turks and Caicos Islands.csv', index = False)\n",
    "#articlesPD.to_csv('/Users/manwest/Downloads/Uruguay.csv', index = False)\n",
    "#articlesPD.to_csv('/Users/manwest/Downloads/US Virgin Islands.csv', index = False)\n"
   ]
  },
  {
   "cell_type": "code",
   "execution_count": null,
   "metadata": {},
   "outputs": [],
   "source": []
  }
 ],
 "metadata": {
  "kernelspec": {
   "display_name": "Python 3.10.2 64-bit",
   "language": "python",
   "name": "python3"
  },
  "language_info": {
   "codemirror_mode": {
    "name": "ipython",
    "version": 3
   },
   "file_extension": ".py",
   "mimetype": "text/x-python",
   "name": "python",
   "nbconvert_exporter": "python",
   "pygments_lexer": "ipython3",
   "version": "3.10.2"
  },
  "orig_nbformat": 4,
  "vscode": {
   "interpreter": {
    "hash": "7e1998ff7f8aa20ada591c520b972326324e5ea05489af9e422744c7c09f6dad"
   }
  }
 },
 "nbformat": 4,
 "nbformat_minor": 2
}
