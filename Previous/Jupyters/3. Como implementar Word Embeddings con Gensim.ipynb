{
 "cells": [
  {
   "cell_type": "markdown",
   "metadata": {},
   "source": [
    "<h1><font color=\"#113D68\" size=5>Deep Learning para Procesamiento del Lenguaje Natural</font></h1>\n",
    "\n",
    "\n",
    "\n",
    "<h1><font color=\"#113D68\" size=6>Como implementar Word Embeddings con Gensim</font></h1>\n",
    "\n",
    "<br><br>\n",
    "<div style=\"text-align: right\">\n",
    "<font color=\"#113D68\" size=3>Manuel Castillo Cara</font><br>\n",
    "\n",
    "</div>"
   ]
  },
  {
   "cell_type": "markdown",
   "metadata": {},
   "source": [
    "---\n",
    "\n",
    "<a id=\"indice\"></a>\n",
    "<h2><font color=\"#004D7F\" size=5>Índice</font></h2>\n",
    "\n",
    "* [1. Word Embeddings](#section1)\n",
    "    * [1.1. Biblioteca de Python de Gensim](#section11)\n",
    "    * [1.2. Desarrollar la incrustación de Word2Vec](#section12)\n",
    "    * [1.3. Visualizar Word Embeddings](#section13)\n",
    "    * [1.4. Cargar el Embedding de Word2Vec de Google](#section14)\n",
    "    * [1.5. Cargue la incrustación GloVe de Stanford](#section15)\n",
    "* [2. Word Embedding en Keras](#section2)\n",
    "    * [2.1. Ejemplo de aprendizaje de Embedding](#section21)\n",
    "    * [2.2. Ejemplo de uso de GloVe preentrenado](#section22)\n",
    "* [Ejercicios](#sectionEJ)\n",
    "    * [Ejercicio 1](#sectionEJ1)\n",
    "    * [Ejercicio 2](#sectionEJ2)\n",
    "    * [Ejercicio 3](#sectionEJ3)\n",
    "    * [Ejercicio 4](#sectionEJ4)\n",
    "    * [Ejercicio 5](#sectionEJ5)\n",
    "    * [Ejercicio 6](#sectionEJ6)\n",
    "    * [Ejercicio 7](#sectionEJ7)\n",
    "    * [Ejercicio 8](#sectionEJ8)"
   ]
  },
  {
   "cell_type": "markdown",
   "metadata": {},
   "source": [
    "---\n",
    "<a id=\"section1\"></a>\n",
    "# <font color=\"#004D7F\" size=6> 1. Word Embeddings</font>"
   ]
  },
  {
   "cell_type": "markdown",
   "metadata": {},
   "source": [
    "Las incrustaciones de palabras son un enfoque moderno para representar texto en el procesamiento del lenguaje natural. Los algoritmos integrados como _Word2Vec_ y _GloVe_ son clave para los resultados de vanguardia logrados por los modelos de redes neuronales en problemas de procesamiento del lenguaje natural como la traducción automática.\n",
    "\n",
    "En este tutorial, descubrirá cómo entrenar y cargar modelos de incrustación de palabras para aplicaciones de procesamiento de lenguaje natural en Python usando `Gensim`. "
   ]
  },
  {
   "cell_type": "markdown",
   "metadata": {},
   "source": [
    "<a id=\"section11\"></a>\n",
    "# <font color=\"#004D7F\" size=5>1.1. Biblioteca de Python de `Gensim`</font>"
   ]
  },
  {
   "cell_type": "markdown",
   "metadata": {},
   "source": [
    "`Gensim` es una biblioteca Python de código abierto para el procesamiento del lenguaje natural, con un enfoque en el modelado de temas. \n",
    "\n",
    "No es una biblioteca de investigación de NLP que incluye todo (como NLTK); en cambio, `Gensim` es un conjunto de herramientas de NLP maduras, enfocadas y eficientes para el modelado de temas. Admite una implementación de Word Embeddings _Word2Vec_ para aprender nuevos vectores de palabras a partir del texto.\n",
    "\n",
    "También proporciona herramientas para cargar Word Embedding previamente entrenadas en algunos formatos y para utilizar y consultar una incrustación cargada. \n",
    "\n",
    "Puede instalar `Gensim` con `pip` escribiendo lo siguiente en su línea de comando:"
   ]
  },
  {
   "cell_type": "code",
   "execution_count": 3,
   "metadata": {
    "scrolled": true
   },
   "outputs": [
    {
     "name": "stdout",
     "output_type": "stream",
     "text": [
      "Requirement already satisfied: gensim in /home/manwest/Documentos/Jupyter/jupyterEnv/lib/python3.8/site-packages (4.2.0)\n",
      "Requirement already satisfied: smart-open>=1.8.1 in /home/manwest/Documentos/Jupyter/jupyterEnv/lib/python3.8/site-packages (from gensim) (5.2.1)\n",
      "Requirement already satisfied: numpy>=1.17.0 in /home/manwest/Documentos/Jupyter/jupyterEnv/lib/python3.8/site-packages (from gensim) (1.22.3)\n",
      "Requirement already satisfied: scipy>=0.18.1 in /home/manwest/Documentos/Jupyter/jupyterEnv/lib/python3.8/site-packages (from gensim) (1.8.0)\n",
      "\n",
      "\u001b[1m[\u001b[0m\u001b[34;49mnotice\u001b[0m\u001b[1;39;49m]\u001b[0m\u001b[39;49m A new release of pip available: \u001b[0m\u001b[31;49m22.1.2\u001b[0m\u001b[39;49m -> \u001b[0m\u001b[32;49m22.2.2\u001b[0m\n",
      "\u001b[1m[\u001b[0m\u001b[34;49mnotice\u001b[0m\u001b[1;39;49m]\u001b[0m\u001b[39;49m To update, run: \u001b[0m\u001b[32;49mpip install --upgrade pip\u001b[0m\n"
     ]
    }
   ],
   "source": [
    "!pip install -U gensim"
   ]
  },
  {
   "cell_type": "markdown",
   "metadata": {},
   "source": [
    "<div class=\"alert alert-block alert-info\">\n",
    "    \n",
    "<i class=\"fa fa-info-circle\" aria-hidden=\"true\"></i>\n",
    "Words Embeddings en [Wikipedia](https://en.wikipedia.org/wiki/Word_embedding)"
   ]
  },
  {
   "cell_type": "markdown",
   "metadata": {},
   "source": [
    "<div class=\"alert alert-block alert-info\">\n",
    "    \n",
    "<i class=\"fa fa-info-circle\" aria-hidden=\"true\"></i>\n",
    "Instrucciones de instalación de [`Gensim`](https://radimrehurek.com/gensim/install.html)"
   ]
  },
  {
   "cell_type": "markdown",
   "metadata": {},
   "source": [
    "<div class=\"alert alert-block alert-info\">\n",
    "    \n",
    "<i class=\"fa fa-info-circle\" aria-hidden=\"true\"></i>\n",
    "Biblioteca Python [`Gensim`](https://radimrehurek.com/gensim/index.html)"
   ]
  },
  {
   "cell_type": "markdown",
   "metadata": {},
   "source": [
    "---\n",
    "<div style=\"text-align: right\"> <font size=5> <a href=\"#indice\"><i class=\"fa fa-arrow-circle-up\" aria-hidden=\"true\" style=\"color:#004D7F\"></i></a></font></div>\n",
    "\n",
    "---"
   ]
  },
  {
   "cell_type": "markdown",
   "metadata": {},
   "source": [
    "<a id=\"section12\"></a>\n",
    "# <font color=\"#004D7F\" size=5>1.2. Desarrollar la incrustación de _Word2Vec_</font>"
   ]
  },
  {
   "cell_type": "markdown",
   "metadata": {},
   "source": [
    "_Word2Vec_ es un algoritmo para aprender una palabra incrustada a partir de un corpus de texto. Hay dos algoritmos de entrenamiento principales que se pueden usar para aprender la incrustación del texto; **son Bolsa de palabras continua (CBOW) y skip-grams**. Los modelos de _Word2Vec_ requieren mucho texto, por ejemplo, todo el corpus de Wikipedia. Sin embargo, demostraremos los principios usando un pequeño ejemplo de texto en la memoria. \n",
    "\n",
    "`Gensim` proporciona la clase `_Word2Vec` para trabajar con un modelo _Word2Vec_. Aprender un word Embedding a partir del texto implica cargar y organizar el texto en oraciones y proporcionarlas al constructor de una nueva instancia de `Word2Vec()`. Por ejemplo:\n",
    "\n",
    "```python\n",
    "    sentences =     ...\n",
    "    model = Word2Vec(sentences)\n",
    "```"
   ]
  },
  {
   "cell_type": "markdown",
   "metadata": {},
   "source": [
    "Específicamente, cada oración debe ser tokenizada, es decir, dividida en palabras y preparada (por ejemplo, quizás prefiltrada y quizás convertida a un caso preferido). Las oraciones pueden ser\n",
    "- Texto cargado en la memoria, o \n",
    "- Un iterador que carga texto progresivamente, requerido para corpus de texto muy grandes. \n",
    "\n",
    "Hay muchos parámetros en este constructor; algunos argumentos dignos de mención que puede desear configurar son:\n",
    "- __`size`__ (predeterminado 100): El número de dimensiones de la incrustación, por ejemplo, la longitud del vector denso para representar cada token (palabra).\n",
    "- __`window`__ (predeterminado 5): La distancia máxima entre una palabra objetivo y las palabras alrededor de la palabra objetivo. \n",
    "- __`min_count`__ (predeterminado 5): El recuento mínimo de palabras a considerar al entrenar el modelo; las palabras con una aparición menor que este número serán ignoradas.\n",
    "- __`workers`__ (predeterminado 3): El número de subprocesos a usar durante el entrenamiento.\n",
    "- __`sg`__ (predeterminado 0 o CBOW): El algoritmo de entrenamiento, ya sea CBOW (0) o salto de gram (1).\n",
    "\n",
    "Por ejemplo, puede imprimir el vocabulario aprendido de tokens (palabras) de la siguiente manera:\n",
    "\n",
    "```python\n",
    "    words = model.wv.index_to_key\n",
    "    print(words)\n",
    "```\n",
    "\n",
    "Puede revisar el vector incrustado para un token específico de la siguiente manera:\n",
    "\n",
    "```python\n",
    "    print(model.wv['word'])\n",
    "```\n",
    "\n",
    "Finalmente, un modelo entrenado se puede guardar en un archivo llamando a la función `save_word2vec_format()` en el modelo de vector de palabra. De forma predeterminada, el modelo se guarda en formato binario para ahorrar espacio. Por ejemplo:\n",
    "\n",
    "```python\n",
    "    model.wv.save_word2vec_format('model.bin')\n",
    "```\n",
    "\n",
    "Al comenzar, puede guardar el modelo aprendido en formato ASCII y revisar el contenido. Puede hacer esto configurando `binary=False` al llamar a la función `save_word2vec_format()`, por ejemplo:\n",
    "\n",
    "```python\n",
    "    model.wv.save_word2vec_format('model.txt', binary=False)\n",
    "```\n",
    "\n",
    "El modelo guardado se puede volver a cargar llamando a la función `Word2Vec.load()`. Por ejemplo:\n",
    "\n",
    "```python\n",
    "    model = Word2Vec.load('model.bin')\n",
    "```\n",
    "\n",
    "Podemos unir todo esto con un ejemplo resuelto. \n",
    "- En lugar de cargar un documento de texto grande o un corpus desde un archivo, trabajaremos con una pequeña lista en memoria de oraciones preidentificadas. \n",
    "- El modelo está entrenado y el recuento mínimo de palabras se establece en 1 para que no se ignore ninguna palabra. \n",
    "- Después de aprender el modelo, resumimos, imprimimos el vocabulario y luego imprimimos un solo vector para la palabra _\"sentence\"_. \n",
    "- Finalmente, el modelo se guarda en un archivo en formato binario, se carga y luego se resume."
   ]
  },
  {
   "cell_type": "markdown",
   "metadata": {},
   "source": [
    "<div class=\"alert alert-block alert-info\">\n",
    "    \n",
    "<i class=\"fa fa-info-circle\" aria-hidden=\"true\"></i>\n",
    "Word2Vec en [Wikipedia](https://en.wikipedia.org/wiki/Word2vec)"
   ]
  },
  {
   "cell_type": "code",
   "execution_count": 1,
   "metadata": {
    "scrolled": true
   },
   "outputs": [
    {
     "name": "stdout",
     "output_type": "stream",
     "text": [
      "Word2Vec<vocab=14, vector_size=100, alpha=0.025>\n",
      "14\n",
      "['sentence', 'the', 'is', 'this', 'final', 'and', 'more', 'one', 'another', 'yet', 'second', 'word2vec', 'for', 'first']\n",
      "\n",
      " access vector for one word\n",
      "[-5.3622725e-04  2.3643136e-04  5.1033497e-03  9.0092728e-03\n",
      " -9.3029495e-03 -7.1168090e-03  6.4588725e-03  8.9729885e-03\n",
      " -5.0154282e-03 -3.7633716e-03  7.3805046e-03 -1.5334714e-03\n",
      " -4.5366134e-03  6.5540518e-03 -4.8601604e-03 -1.8160177e-03\n",
      "  2.8765798e-03  9.9187379e-04 -8.2852151e-03 -9.4488179e-03\n",
      "  7.3117660e-03  5.0702621e-03  6.7576934e-03  7.6286553e-04\n",
      "  6.3508903e-03 -3.4053659e-03 -9.4640139e-04  5.7685734e-03\n",
      " -7.5216377e-03 -3.9361035e-03 -7.5115822e-03 -9.3004224e-04\n",
      "  9.5381187e-03 -7.3191668e-03 -2.3337686e-03 -1.9377411e-03\n",
      "  8.0774371e-03 -5.9308959e-03  4.5162440e-05 -4.7537340e-03\n",
      " -9.6035507e-03  5.0072931e-03 -8.7595852e-03 -4.3918253e-03\n",
      " -3.5099984e-05 -2.9618145e-04 -7.6612402e-03  9.6147433e-03\n",
      "  4.9820580e-03  9.2331432e-03 -8.1579173e-03  4.4957981e-03\n",
      " -4.1370760e-03  8.2453608e-04  8.4986202e-03 -4.4621765e-03\n",
      "  4.5175003e-03 -6.7869602e-03 -3.5484887e-03  9.3985079e-03\n",
      " -1.5776526e-03  3.2137157e-04 -4.1406299e-03 -7.6826881e-03\n",
      " -1.5080082e-03  2.4697948e-03 -8.8802696e-04  5.5336617e-03\n",
      " -2.7429771e-03  2.2600652e-03  5.4557943e-03  8.3459532e-03\n",
      " -1.4537406e-03 -9.2081428e-03  4.3705525e-03  5.7178497e-04\n",
      "  7.4419081e-03 -8.1328274e-04 -2.6384138e-03 -8.7530091e-03\n",
      " -8.5655687e-04  2.8265631e-03  5.4014288e-03  7.0526563e-03\n",
      " -5.7031214e-03  1.8588197e-03  6.0888636e-03 -4.7980510e-03\n",
      " -3.1072604e-03  6.7976294e-03  1.6314756e-03  1.8991709e-04\n",
      "  3.4736372e-03  2.1777749e-04  9.6188262e-03  5.0606038e-03\n",
      " -8.9173904e-03 -7.0415605e-03  9.0145587e-04  6.3925339e-03]\n",
      "\n",
      " access vector for all words\n",
      "[[-5.3622725e-04  2.3643136e-04  5.1033497e-03 ... -7.0415605e-03\n",
      "   9.0145587e-04  6.3925339e-03]\n",
      " [-8.6196875e-03  3.6657380e-03  5.1898835e-03 ... -2.3915148e-03\n",
      "  -9.5100943e-03  4.5058788e-03]\n",
      " [ 9.4563962e-05  3.0773198e-03 -6.8126451e-03 ...  5.1259040e-04\n",
      "   8.2130842e-03 -7.0190406e-03]\n",
      " ...\n",
      " [ 9.7702928e-03  8.1651136e-03  1.2809718e-03 ... -2.9727400e-03\n",
      "  -4.9318983e-03 -2.3151112e-03]\n",
      " [-1.9442164e-03 -5.2675214e-03  9.4471136e-03 ...  5.9827138e-03\n",
      "   6.8153618e-03  7.8225443e-03]\n",
      " [-9.5001198e-03  9.5622232e-03 -7.7707553e-03 ... -3.1351077e-03\n",
      "  -6.3388194e-03  9.8700775e-03]]\n",
      "\n",
      " index of each words\n",
      "{'sentence': 0, 'the': 1, 'is': 2, 'this': 3, 'final': 4, 'and': 5, 'more': 6, 'one': 7, 'another': 8, 'yet': 9, 'second': 10, 'word2vec': 11, 'for': 12, 'first': 13}\n",
      "Word2Vec<vocab=14, vector_size=100, alpha=0.025>\n"
     ]
    }
   ],
   "source": [
    "from gensim.models import Word2Vec\n",
    "# define training data\n",
    "sentences = [['this', 'is', 'the', 'first', 'sentence', 'for', 'word2vec'],\n",
    "\t\t\t['this', 'is', 'the', 'second', 'sentence'],\n",
    "\t\t\t['yet', 'another', 'sentence'],\n",
    "\t\t\t['one', 'more', 'sentence'],\n",
    "\t\t\t['and', 'the', 'final', 'sentence']]\n",
    "# train model\n",
    "model = Word2Vec(sentences, min_count=1)\n",
    "# summarize the loaded model\n",
    "print(model)\n",
    "# print number of vocals\n",
    "print(len(model.wv))\n",
    "# summarize vocabulary\n",
    "words = model.wv.index_to_key\n",
    "print(words)\n",
    "# access vector for one word\n",
    "print(\"\\n access vector for one word\")\n",
    "print(model.wv['sentence'])\n",
    "# access vector for all words\n",
    "print(\"\\n access vector for all words\")\n",
    "print(model.wv.vectors)\n",
    "# index of each words\n",
    "print(\"\\n index of each words\")\n",
    "print(model.wv.key_to_index)\n",
    "# save model\n",
    "model.save('model.bin')\n",
    "# load model\n",
    "new_model = Word2Vec.load('model.bin')\n",
    "print(new_model)"
   ]
  },
  {
   "cell_type": "markdown",
   "metadata": {},
   "source": [
    "Puedes ver que con un poco de trabajo para preparar tu documento de texto, puedes crear tu propio Word Embedding muy fácilmente con `Gensim`."
   ]
  },
  {
   "cell_type": "markdown",
   "metadata": {},
   "source": [
    "<div class=\"alert alert-block alert-info\">\n",
    "    \n",
    "<i class=\"fa fa-info-circle\" aria-hidden=\"true\"></i>\n",
    "Información sobre la API Gensim [`models.word2vec`](https://radimrehurek.com/gensim/models/keyedvectors.html)"
   ]
  },
  {
   "cell_type": "markdown",
   "metadata": {},
   "source": [
    "<div class=\"alert alert-block alert-info\">\n",
    "    \n",
    "<i class=\"fa fa-info-circle\" aria-hidden=\"true\"></i>\n",
    "Información sobre la API Gensim [`models.keyedvectors`](https://radimrehurek.com/gensim/models/keyedvectors.html)"
   ]
  },
  {
   "cell_type": "markdown",
   "metadata": {},
   "source": [
    "---\n",
    "<div style=\"text-align: right\"> <font size=5> <a href=\"#indice\"><i class=\"fa fa-arrow-circle-up\" aria-hidden=\"true\" style=\"color:#004D7F\"></i></a></font></div>\n",
    "\n",
    "---"
   ]
  },
  {
   "cell_type": "markdown",
   "metadata": {},
   "source": [
    "<a id=\"section13\"></a>\n",
    "# <font color=\"#004D7F\" size=5>1.3. Visualizar Word Embeddings</font>"
   ]
  },
  {
   "cell_type": "markdown",
   "metadata": {},
   "source": [
    "Podemos crear un modelo PCA bidimensional de los vectores de palabras utilizando la clase PCA de scikit-learn de la siguiente manera.\n",
    "\n",
    "```python\n",
    "    pca = PCA(n_components=2)\n",
    "    result = pca.fit_transform(X)\n",
    "```\n",
    "\n",
    "La proyección resultante se puede trazar usando Matplotlib de la siguiente manera, sacando las dos dimensiones como\n",
    "coordenadas x e y.\n",
    "\n",
    "```python\n",
    "    pyplot.scatter(result[:, 0], result[:, 1])\n",
    "```\n",
    "\n",
    "Podemos ir un paso más allá y anotar los puntos en el gráfico con las propias palabras.\n",
    "```python\n",
    "    words = model.wv.index_to_key\n",
    "    for i, word in enumerate(words):\n",
    "        pyplot.annotate(word, xy=(result[i, 0], result[i, 1]))\n",
    "```"
   ]
  },
  {
   "cell_type": "code",
   "execution_count": 2,
   "metadata": {
    "scrolled": true
   },
   "outputs": [
    {
     "data": {
      "image/png": "[encoded data removed]",
      "text/plain": [
       "<Figure size 640x480 with 1 Axes>"
      ]
     },
     "metadata": {},
     "output_type": "display_data"
    }
   ],
   "source": [
    "from gensim.models import Word2Vec\n",
    "from sklearn.decomposition import PCA\n",
    "from matplotlib import pyplot\n",
    "import numpy as np\n",
    "# define training data\n",
    "sentences = [['this', 'is', 'the', 'first', 'sentence', 'for', 'word2vec'],\n",
    "\t\t\t['this', 'is', 'the', 'second', 'sentence'],\n",
    "\t\t\t['yet', 'another', 'sentence'],\n",
    "\t\t\t['one', 'more', 'sentence'],\n",
    "\t\t\t['and', 'the', 'final', 'sentence']]\n",
    "# train model\n",
    "model = Word2Vec(sentences, min_count=1)\n",
    "# fit a 2d PCA model to the vectors\n",
    "X = model.wv[model.wv.key_to_index]\n",
    "pca = PCA(n_components=2)\n",
    "result = pca.fit_transform(X)\n",
    "# create a scatter plot of the projection\n",
    "pyplot.scatter(result[:, 0], result[:, 1])\n",
    "words = list(model.wv.index_to_key)\n",
    "for i, word in enumerate(words):\n",
    "\tpyplot.annotate(word, xy=(result[i, 0], result[i, 1]))\n",
    "pyplot.show()"
   ]
  },
  {
   "cell_type": "markdown",
   "metadata": {},
   "source": [
    "Ejecutar el ejemplo crea un gráfico de dispersión con los puntos anotados con las palabras. Es difícil sacar mucho significado del gráfico dado que se utilizó un corpus tan pequeño para ajustar el modelo."
   ]
  },
  {
   "cell_type": "markdown",
   "metadata": {},
   "source": [
    "---\n",
    "<div style=\"text-align: right\"> <font size=5> <a href=\"#indice\"><i class=\"fa fa-arrow-circle-up\" aria-hidden=\"true\" style=\"color:#004D7F\"></i></a></font></div>\n",
    "\n",
    "---"
   ]
  },
  {
   "cell_type": "markdown",
   "metadata": {},
   "source": [
    "<a id=\"section14\"></a>\n",
    "# <font color=\"#004D7F\" size=5>1.4. Cargar el Embedding de Word2Vec de Google</font>"
   ]
  },
  {
   "cell_type": "markdown",
   "metadata": {},
   "source": [
    "Un modelo preentrenado no es más que un archivo que contiene tokens y sus vectores de palabras asociados. El modelo Google _Word2Vec_ preentrenado se entrenó con datos de noticias de Google (alrededor de 100 mil millones de palabras); contiene 3 millones de palabras y frases y se ajustó utilizando vectores de palabras de 300 dimensiones.\n",
    "Es un archivo de 1,53 Gigabytes. \n",
    "\n",
    "La librería `Gensim` proporciona herramientas para cargar este archivo. Específicamente, puede llamar a la función `KeyedVectors.load_word2vec_format()` para cargar este modelo en la memoria, por ejemplo:"
   ]
  },
  {
   "cell_type": "markdown",
   "metadata": {},
   "source": [
    "<div class=\"alert alert-block alert-info\">\n",
    "    \n",
    "<i class=\"fa fa-info-circle\" aria-hidden=\"true\"></i>\n",
    "Se puede descargar [`GoogleNews-vectors-negative300.bin`](https://drive.google.com/file/d/0B7XkCwpI5KDYNlNUTTlSS21pQmM/edit?usp=sharing)"
   ]
  },
  {
   "cell_type": "code",
   "execution_count": 3,
   "metadata": {},
   "outputs": [],
   "source": [
    "from gensim.models import KeyedVectors\n",
    "# load the google word2vec model\n",
    "filename = 'data/GoogleNews-vectors-negative300.bin'\n",
    "model = KeyedVectors.load_word2vec_format(filename, binary=True)"
   ]
  },
  {
   "cell_type": "markdown",
   "metadata": {},
   "source": [
    "Un ejemplo popular descrito en conferencias y documentos de introducción es:\n",
    "\n",
    "`queen = (king - man) + woman`\n",
    "\n",
    "Es decir, la palabra reina es la palabra más cercana dada la sustracción de la noción de hombre de la de rey y la adición de la palabra mujer. La masculinidad en rey es reemplazada por la feminidad para darnos reina. Un concepto muy genial. Gensim proporciona una interfaz para realizar este tipo de operaciones en la función `most_similar()` en el modelo entrenado o cargado. Por ejemplo:"
   ]
  },
  {
   "cell_type": "markdown",
   "metadata": {},
   "source": [
    "<div class=\"alert alert-block alert-info\">\n",
    "    \n",
    "<i class=\"fa fa-info-circle\" aria-hidden=\"true\"></i>\n",
    "Proyecto Google [Word2Vec](https://code.google.com/archive/p/word2vec/)"
   ]
  },
  {
   "cell_type": "code",
   "execution_count": 4,
   "metadata": {},
   "outputs": [
    {
     "name": "stdout",
     "output_type": "stream",
     "text": [
      "[('queen', 0.7118193507194519)]\n"
     ]
    }
   ],
   "source": [
    "# Check the \"most similar words\", using the default \"cosine similarity\" measure.\n",
    "# calculate: (king - man) + woman = ?\n",
    "result = model.most_similar(positive=['woman', 'king'], negative=['man'], topn=1)\n",
    "print(result)"
   ]
  },
  {
   "cell_type": "markdown",
   "metadata": {},
   "source": [
    "Al ejecutar el ejemplo, se carga el modelo _Word2Vec_ previamente entrenado por Google y luego se calcula el `(king - man) + women = ?` operación en los vectores de palabras para esas palabras. La respuesta, como era de esperar, es `queen`."
   ]
  },
  {
   "cell_type": "code",
   "execution_count": 14,
   "metadata": {},
   "outputs": [
    {
     "name": "stdout",
     "output_type": "stream",
     "text": [
      "queen: 0.9314\n"
     ]
    }
   ],
   "source": [
    "# Use a different similarity measure: \"cosmul\".\n",
    "result = model.most_similar_cosmul(positive=['woman', 'king'], negative=['man'])\n",
    "most_similar_key, similarity = result[0]  # look at the first match\n",
    "print(f\"{most_similar_key}: {similarity:.4f}\")"
   ]
  },
  {
   "cell_type": "code",
   "execution_count": 10,
   "metadata": {},
   "outputs": [
    {
     "name": "stdout",
     "output_type": "stream",
     "text": [
      "cats: 0.8099\n"
     ]
    }
   ],
   "source": [
    "result = model.similar_by_word(\"cat\")\n",
    "most_similar_key, similarity = result[0]  # look at the first match\n",
    "print(f\"{most_similar_key}: {similarity:.4f}\")"
   ]
  },
  {
   "cell_type": "code",
   "execution_count": 12,
   "metadata": {},
   "outputs": [
    {
     "data": {
      "text/plain": [
       "[('cats', 0.8099379539489746),\n",
       " ('dog', 0.760945737361908),\n",
       " ('kitten', 0.7464985251426697),\n",
       " ('feline', 0.7326234579086304),\n",
       " ('beagle', 0.7150582671165466),\n",
       " ('puppy', 0.7075453400611877),\n",
       " ('pup', 0.6934291124343872),\n",
       " ('pet', 0.6891531348228455),\n",
       " ('felines', 0.6755931973457336),\n",
       " ('chihuahua', 0.6709762215614319)]"
      ]
     },
     "execution_count": 12,
     "metadata": {},
     "output_type": "execute_result"
    }
   ],
   "source": [
    "result"
   ]
  },
  {
   "cell_type": "markdown",
   "metadata": {},
   "source": [
    "Print the 5 most similar words to “car” or “minivan”"
   ]
  },
  {
   "cell_type": "code",
   "execution_count": 16,
   "metadata": {},
   "outputs": [
    {
     "name": "stdout",
     "output_type": "stream",
     "text": [
      "[('SUV', 0.8532192707061768), ('vehicle', 0.8175783753395081), ('pickup_truck', 0.7763688564300537), ('Jeep', 0.7567334175109863), ('Ford_Explorer', 0.7565720081329346)]\n"
     ]
    }
   ],
   "source": [
    "print(model.most_similar(positive=['car', 'minivan'], topn=5))"
   ]
  },
  {
   "cell_type": "markdown",
   "metadata": {},
   "source": [
    "Which of the below does not belong in the sequence?"
   ]
  },
  {
   "cell_type": "code",
   "execution_count": 17,
   "metadata": {},
   "outputs": [
    {
     "name": "stdout",
     "output_type": "stream",
     "text": [
      "car\n"
     ]
    }
   ],
   "source": [
    "print(model.doesnt_match(['fire', 'water', 'land', 'sea', 'air', 'car']))"
   ]
  },
  {
   "cell_type": "markdown",
   "metadata": {},
   "source": [
    "---\n",
    "<div style=\"text-align: right\"> <font size=5> <a href=\"#indice\"><i class=\"fa fa-arrow-circle-up\" aria-hidden=\"true\" style=\"color:#004D7F\"></i></a></font></div>\n",
    "\n",
    "---"
   ]
  },
  {
   "cell_type": "markdown",
   "metadata": {},
   "source": [
    "<a id=\"section15\"></a>\n",
    "# <font color=\"#004D7F\" size=5>1.5. Cargue la incrustación _GloVe_ de Stanford</font>"
   ]
  },
  {
   "cell_type": "markdown",
   "metadata": {},
   "source": [
    "Los investigadores de Stanford también tienen su propio algoritmo de Word Embedding llamado Vectores Global Vectors (_GloVe_). \n",
    "\n",
    "Al igual que _Word2Vec_, los investigadores de _GloVe_ también proporcionan vectores de palabras previamente entrenados, en este caso, una gran selección para elegir. Puede descargar los vectores de palabras previamente entrenados de _GloVe_ y cargar fácilmente con _Gensim_. "
   ]
  },
  {
   "cell_type": "markdown",
   "metadata": {},
   "source": [
    "<div class=\"alert alert-block alert-info\">\n",
    "    \n",
    "<i class=\"fa fa-info-circle\" aria-hidden=\"true\"></i>\n",
    "Se puede descargar [`glove.6B.zip`](http://nlp.stanford.edu/data/glove.6B.zip)"
   ]
  },
  {
   "cell_type": "markdown",
   "metadata": {},
   "source": [
    "Puede descargar el modelo preentrenado de _GloVe_ más pequeño del sitio web de _GloVe_. Es un archivo zip de 822 Megabytes con 4 modelos diferentes (vectores de 50, 100, 200 y 300 dimensiones) entrenados en datos de\n",
    "Wikipedia con 6 mil millones de tokens y un vocabulario de 400,000 palabras. \n",
    "\n",
    "Trabajando con la versión de 100 dimensiones del modelo, podemos cargar el archivo a formato Word2Vec con la función `load_word2vec_format` de la clase `KeyedVectors`.\n",
    "\n",
    "Ahora podemos cargarlo y realizar lo mismo que la prueba `(king - man) + woman = ?` como en el apartado anterior. \n",
    "\n",
    "La lista completa de códigos se proporciona a continuación. Tenga en cuenta que el archivo convertido tiene formato ASCII, no binario, por lo que establecemos `binary=False` al cargar y el `no_header=True` ya que no tiene encabezado."
   ]
  },
  {
   "cell_type": "markdown",
   "metadata": {},
   "source": [
    "<div class=\"alert alert-block alert-info\">\n",
    "    \n",
    "<i class=\"fa fa-info-circle\" aria-hidden=\"true\"></i>\n",
    "Información sobre la API Gensim [`scripts.glove2word2vec`](https://radimrehurek.com/gensim/scripts/glove2word2vec.html)"
   ]
  },
  {
   "cell_type": "markdown",
   "metadata": {},
   "source": [
    "<div class=\"alert alert-block alert-info\">\n",
    "    \n",
    "<i class=\"fa fa-info-circle\" aria-hidden=\"true\"></i>\n",
    "Proyecto Stanford [GloVe](https://nlp.stanford.edu/projects/glove/)"
   ]
  },
  {
   "cell_type": "code",
   "execution_count": 18,
   "metadata": {
    "scrolled": true
   },
   "outputs": [
    {
     "name": "stdout",
     "output_type": "stream",
     "text": [
      "[('queen', 0.7698540687561035)]\n"
     ]
    }
   ],
   "source": [
    "from gensim.models import KeyedVectors\n",
    "from gensim.scripts.glove2word2vec import glove2word2vec\n",
    "# read de file\n",
    "glove_input_file = 'data/glove.6B/glove.6B.100d.txt'\n",
    "# load the converted model\n",
    "model = KeyedVectors.load_word2vec_format(glove_input_file, binary=False, no_header=True)\n",
    "# calculate: (king - man) + woman = ?\n",
    "result = model.most_similar(positive=['woman', 'king'], negative=['man'], topn=1)\n",
    "print(result)"
   ]
  },
  {
   "cell_type": "markdown",
   "metadata": {},
   "source": [
    "---\n",
    "<div style=\"text-align: right\"> <font size=5> <a href=\"#indice\"><i class=\"fa fa-arrow-circle-up\" aria-hidden=\"true\" style=\"color:#004D7F\"></i></a></font></div>\n",
    "\n",
    "---"
   ]
  },
  {
   "cell_type": "markdown",
   "metadata": {},
   "source": [
    "<a id=\"section2\"></a>\n",
    "# <font color=\"#004D7F\" size=6>2. Word Embedding en Keras</font>"
   ]
  },
  {
   "cell_type": "markdown",
   "metadata": {},
   "source": [
    "Keras ofrece una capa Embedding que se puede usar para redes neuronales en datos de texto. \n",
    "- Requiere que los datos de entrada estén codificados en números enteros, de modo que cada palabra esté representada por un número entero único. \n",
    "- Para ello utilizamos la API `Tokenizer` de Keras.\n",
    "\n",
    "La capa `Embedding` se define como la primera capa oculta de una red. Debe especificar 3 argumentos:\n",
    "- __`input_dim`__: este es el tamaño del vocabulario en los datos de texto. \n",
    "    - Por ejemplo, si sus datos están codificados en números enteros con valores entre 0 y 10, entonces el tamaño del vocabulario sería de 11 palabras.\n",
    "- __`output_dim`__: este es el tamaño del espacio vectorial en el que se incrustarán las palabras. Define el tamaño de los vectores de salida de esta capa para cada palabra. \n",
    "    - Por ejemplo, podría ser 32 o 100 o incluso más. Pruebe diferentes valores para su problema.\n",
    "- __`input_length`__: esta es la longitud de las secuencias de entrada para cualquier capa de entrada de un modelo de Keras. \n",
    "    - Por ejemplo, si todos sus documentos de entrada se componen de 1000 palabras, esto sería 1000.\n",
    "\n",
    "Por ejemplo, a continuación definimos una capa `Embedding` con un vocabulario de 200 (por ejemplo, palabras\n",
    "codificadas con números enteros de 0 a 199, inclusive), un espacio vectorial de 32 dimensiones en el que se incrustarán palabras y documentos de entrada que tienen 50 palabras cada uno.\n",
    "\n",
    "```python\n",
    "    e = Embedding(200, 32, input_length = 50)\n",
    "```\n",
    "\n",
    "- La capa `Embedding` tiene pesos que se aprenden. \n",
    "    - Si guarda su modelo en un archivo, esto incluirá pesos para la capa `Embedding`. \n",
    "- La salida de la capa `Embedding` es un vector ___2D___ con una incrustación para cada palabra en la secuencia de palabras de entrada (documento de entrada). \n",
    "- Si desea conectar una capa `Dense` directamente a una capa `Embedding`, primero debe aplanar la matriz de salida 2D a un vector 1D usando la capa `Flatten`. "
   ]
  },
  {
   "cell_type": "markdown",
   "metadata": {},
   "source": [
    "---\n",
    "<div style=\"text-align: right\"> <font size=5> <a href=\"#indice\"><i class=\"fa fa-arrow-circle-up\" aria-hidden=\"true\" style=\"color:#004D7F\"></i></a></font></div>\n",
    "\n",
    "---"
   ]
  },
  {
   "cell_type": "markdown",
   "metadata": {},
   "source": [
    "<a id=\"section21\"></a>\n",
    "# <font color=\"#004D7F\" size=5>2.1. Ejemplo de aprendizaje de Embedding</font>"
   ]
  },
  {
   "cell_type": "markdown",
   "metadata": {},
   "source": [
    "Definiremos un pequeño problema donde tenemos 10 documentos de texto, cada uno con un comentario sobre un trabajo enviado por un estudiante. Cada documento de texto se clasifica como __positivo 1__ o __negativo 0__. Este es un problema de análisis de reseñas simple.\n",
    "\n",
    "Primero, definiremos los documentos y sus etiquetas de clase."
   ]
  },
  {
   "cell_type": "code",
   "execution_count": 19,
   "metadata": {},
   "outputs": [
    {
     "name": "stderr",
     "output_type": "stream",
     "text": [
      "2022-12-05 15:35:16.603868: I tensorflow/core/platform/cpu_feature_guard.cc:193] This TensorFlow binary is optimized with oneAPI Deep Neural Network Library (oneDNN) to use the following CPU instructions in performance-critical operations:  AVX2 FMA\n",
      "To enable them in other operations, rebuild TensorFlow with the appropriate compiler flags.\n",
      "2022-12-05 15:35:24.297982: W tensorflow/compiler/xla/stream_executor/platform/default/dso_loader.cc:64] Could not load dynamic library 'libnvinfer.so.7'; dlerror: libnvinfer.so.7: cannot open shared object file: No such file or directory; LD_LIBRARY_PATH: /usr/local/cuda-11.0/include:/usr/local/cuda-11.0/lib64:\n",
      "2022-12-05 15:35:24.298522: W tensorflow/compiler/xla/stream_executor/platform/default/dso_loader.cc:64] Could not load dynamic library 'libnvinfer_plugin.so.7'; dlerror: libnvinfer_plugin.so.7: cannot open shared object file: No such file or directory; LD_LIBRARY_PATH: /usr/local/cuda-11.0/include:/usr/local/cuda-11.0/lib64:\n",
      "2022-12-05 15:35:24.298573: W tensorflow/compiler/tf2tensorrt/utils/py_utils.cc:38] TF-TRT Warning: Cannot dlopen some TensorRT libraries. If you would like to use Nvidia GPU with TensorRT, please make sure the missing libraries mentioned above are installed properly.\n"
     ]
    }
   ],
   "source": [
    "from numpy import array\n",
    "from keras.preprocessing.text import one_hot\n",
    "from tensorflow.keras.preprocessing.sequence import pad_sequences\n",
    "from tensorflow.keras.models import Sequential\n",
    "from tensorflow.keras.layers import Dense\n",
    "from tensorflow.keras.layers import Flatten\n",
    "from tensorflow.keras.layers import Embedding\n",
    "# define documents\n",
    "docs = ['Well done!',\n",
    "\t\t'Good work',\n",
    "\t\t'Great effort',\n",
    "\t\t'nice work',\n",
    "\t\t'Excellent!',\n",
    "\t\t'Weak',\n",
    "\t\t'Poor effort!',\n",
    "\t\t'not good',\n",
    "\t\t'poor work',\n",
    "\t\t'Could have done better.']\n",
    "# define class labels\n",
    "labels = array([1,1,1,1,1,0,0,0,0,0])"
   ]
  },
  {
   "cell_type": "markdown",
   "metadata": {},
   "source": [
    "A continuación, podemos codificar con enteros cada documento:\n",
    "- Esto significa que como entrada, la capa `Embedding` tendrá secuencias de números enteros. \n",
    "- Keras proporciona la función `one_hot()` que crea un hash de cada palabra como una codificación de enteros. \n",
    "- Estimaremos el tamaño del vocabulario de 50, que es mucho más grande de lo necesario para reducir la probabilidad de colisiones de la función hash.\n",
    "\n",
    "Imprimimos los documentos codificados en enteros."
   ]
  },
  {
   "cell_type": "code",
   "execution_count": 20,
   "metadata": {},
   "outputs": [
    {
     "name": "stdout",
     "output_type": "stream",
     "text": [
      "[[35, 4], [6, 23], [42, 37], [10, 23], [33], [33], [8, 37], [29, 6], [8, 23], [45, 12, 4, 44]]\n"
     ]
    }
   ],
   "source": [
    "# integer encode the documents\n",
    "vocab_size = 50\n",
    "encoded_docs = [one_hot(d, vocab_size) for d in docs]\n",
    "print(encoded_docs)"
   ]
  },
  {
   "cell_type": "markdown",
   "metadata": {},
   "source": [
    "- Las secuencias tienen diferentes longitudes y Keras prefiere que las **entradas estén vectorizadas y que todas las entradas tengan la misma longitud**. \n",
    "- Rellenaremos todas las secuencias de entrada para que tengan una longitud de 4. \n",
    "    - Podemos hacer esto con la función `pad_sequences()`.\n",
    "\n",
    "Se imprimen las versiones padded de cada documento, haciéndolos de longitud uniforme."
   ]
  },
  {
   "cell_type": "code",
   "execution_count": 21,
   "metadata": {},
   "outputs": [
    {
     "name": "stdout",
     "output_type": "stream",
     "text": [
      "[[35  4  0  0]\n",
      " [ 6 23  0  0]\n",
      " [42 37  0  0]\n",
      " [10 23  0  0]\n",
      " [33  0  0  0]\n",
      " [33  0  0  0]\n",
      " [ 8 37  0  0]\n",
      " [29  6  0  0]\n",
      " [ 8 23  0  0]\n",
      " [45 12  4 44]]\n"
     ]
    }
   ],
   "source": [
    "# pad documents to a max length of 4 words\n",
    "max_length = 4\n",
    "padded_docs = pad_sequences(encoded_docs, maxlen=max_length, padding='post')\n",
    "print(padded_docs)"
   ]
  },
  {
   "cell_type": "markdown",
   "metadata": {},
   "source": [
    "Ahora estamos listos para definir nuestra capa `Embedding` como parte de nuestro modelo de red neuronal. \n",
    "- La capa `Embedding` tiene un vocabulario de 50 y una longitud de entrada de 4. \n",
    "- Elegiremos un pequeño espacio de incrustación de 8 dimensiones. \n",
    "- El modelo es un modelo de clasificación binaria simple.\n",
    "- Es importante destacar que la salida de la capa `Embedding` será de 4 vectores de 8 dimensiones cada uno, uno para cada palabra. \n",
    "- Aplanamos esto a un vector de 32 elementos para pasar a la capa de salida `Dense`."
   ]
  },
  {
   "cell_type": "code",
   "execution_count": 22,
   "metadata": {
    "scrolled": true
   },
   "outputs": [
    {
     "name": "stderr",
     "output_type": "stream",
     "text": [
      "2022-12-05 15:40:05.326557: I tensorflow/compiler/xla/stream_executor/cuda/cuda_gpu_executor.cc:981] successful NUMA node read from SysFS had negative value (-1), but there must be at least one NUMA node, so returning NUMA node zero\n",
      "2022-12-05 15:40:05.802296: I tensorflow/compiler/xla/stream_executor/cuda/cuda_gpu_executor.cc:981] successful NUMA node read from SysFS had negative value (-1), but there must be at least one NUMA node, so returning NUMA node zero\n",
      "2022-12-05 15:40:05.803496: I tensorflow/compiler/xla/stream_executor/cuda/cuda_gpu_executor.cc:981] successful NUMA node read from SysFS had negative value (-1), but there must be at least one NUMA node, so returning NUMA node zero\n",
      "2022-12-05 15:40:06.117534: I tensorflow/core/platform/cpu_feature_guard.cc:193] This TensorFlow binary is optimized with oneAPI Deep Neural Network Library (oneDNN) to use the following CPU instructions in performance-critical operations:  AVX2 FMA\n",
      "To enable them in other operations, rebuild TensorFlow with the appropriate compiler flags.\n",
      "2022-12-05 15:40:06.120772: I tensorflow/compiler/xla/stream_executor/cuda/cuda_gpu_executor.cc:981] successful NUMA node read from SysFS had negative value (-1), but there must be at least one NUMA node, so returning NUMA node zero\n",
      "2022-12-05 15:40:06.122060: I tensorflow/compiler/xla/stream_executor/cuda/cuda_gpu_executor.cc:981] successful NUMA node read from SysFS had negative value (-1), but there must be at least one NUMA node, so returning NUMA node zero\n",
      "2022-12-05 15:40:06.123212: I tensorflow/compiler/xla/stream_executor/cuda/cuda_gpu_executor.cc:981] successful NUMA node read from SysFS had negative value (-1), but there must be at least one NUMA node, so returning NUMA node zero\n",
      "2022-12-05 15:40:10.482430: I tensorflow/compiler/xla/stream_executor/cuda/cuda_gpu_executor.cc:981] successful NUMA node read from SysFS had negative value (-1), but there must be at least one NUMA node, so returning NUMA node zero\n",
      "2022-12-05 15:40:10.483645: I tensorflow/compiler/xla/stream_executor/cuda/cuda_gpu_executor.cc:981] successful NUMA node read from SysFS had negative value (-1), but there must be at least one NUMA node, so returning NUMA node zero\n",
      "2022-12-05 15:40:10.484455: I tensorflow/compiler/xla/stream_executor/cuda/cuda_gpu_executor.cc:981] successful NUMA node read from SysFS had negative value (-1), but there must be at least one NUMA node, so returning NUMA node zero\n",
      "2022-12-05 15:40:10.485716: I tensorflow/core/common_runtime/gpu/gpu_device.cc:1613] Created device /job:localhost/replica:0/task:0/device:GPU:0 with 3375 MB memory:  -> device: 0, name: Quadro M1200, pci bus id: 0000:01:00.0, compute capability: 5.0\n"
     ]
    },
    {
     "name": "stdout",
     "output_type": "stream",
     "text": [
      "Model: \"sequential\"\n",
      "_________________________________________________________________\n",
      " Layer (type)                Output Shape              Param #   \n",
      "=================================================================\n",
      " embedding (Embedding)       (None, 4, 8)              400       \n",
      "                                                                 \n",
      " flatten (Flatten)           (None, 32)                0         \n",
      "                                                                 \n",
      " dense (Dense)               (None, 1)                 33        \n",
      "                                                                 \n",
      "=================================================================\n",
      "Total params: 433\n",
      "Trainable params: 433\n",
      "Non-trainable params: 0\n",
      "_________________________________________________________________\n"
     ]
    }
   ],
   "source": [
    "# define the model\n",
    "model = Sequential()\n",
    "model.add(Embedding(vocab_size, 8, input_length=max_length))\n",
    "model.add(Flatten())\n",
    "model.add(Dense(1, activation='sigmoid'))\n",
    "# compile the model\n",
    "model.compile(optimizer='adam', loss='binary_crossentropy', metrics=['accuracy'])\n",
    "# summarize the model\n",
    "model.summary()"
   ]
  },
  {
   "cell_type": "markdown",
   "metadata": {},
   "source": [
    "Podemos ver que, como se esperaba, la salida de la capa `Embedding` es una matriz de $4 \\times 8$ y la capa `Flatten` la reduce a un vector de 32 elementos.\n",
    "\n",
    "Finalmente, podemos ajustar y evaluar el modelo de clasificación."
   ]
  },
  {
   "cell_type": "code",
   "execution_count": 23,
   "metadata": {},
   "outputs": [
    {
     "name": "stderr",
     "output_type": "stream",
     "text": [
      "2022-12-05 15:40:59.302974: I tensorflow/compiler/xla/service/service.cc:173] XLA service 0x1df28c30 initialized for platform CUDA (this does not guarantee that XLA will be used). Devices:\n",
      "2022-12-05 15:40:59.304236: I tensorflow/compiler/xla/service/service.cc:181]   StreamExecutor device (0): Quadro M1200, Compute Capability 5.0\n",
      "2022-12-05 15:40:59.357316: I tensorflow/compiler/mlir/tensorflow/utils/dump_mlir_util.cc:268] disabling MLIR crash reproducer, set env var `MLIR_CRASH_REPRODUCER_DIRECTORY` to enable.\n",
      "2022-12-05 15:41:00.024023: I tensorflow/tsl/platform/default/subprocess.cc:304] Start cannot spawn child process: No such file or directory\n",
      "2022-12-05 15:41:00.275754: I tensorflow/compiler/jit/xla_compilation_cache.cc:477] Compiled cluster using XLA!  This line is logged at most once for the lifetime of the process.\n"
     ]
    },
    {
     "name": "stdout",
     "output_type": "stream",
     "text": [
      "Accuracy: 80.000001\n"
     ]
    }
   ],
   "source": [
    "# fit the model\n",
    "model.fit(padded_docs, labels, epochs=50, verbose=0)\n",
    "# evaluate the model\n",
    "loss, accuracy = model.evaluate(padded_docs, labels, verbose=0)\n",
    "print('Accuracy: %f' % (accuracy*100))"
   ]
  },
  {
   "cell_type": "markdown",
   "metadata": {},
   "source": [
    "Finalmente, se imprime el Accuracy del modelo entrenado, mostrando que aprendió el entrenamiento conjunto de datos perfectamente (lo cual no es sorprendente)."
   ]
  },
  {
   "cell_type": "markdown",
   "metadata": {},
   "source": [
    "---\n",
    "<div style=\"text-align: right\"> <font size=5> <a href=\"#indice\"><i class=\"fa fa-arrow-circle-up\" aria-hidden=\"true\" style=\"color:#004D7F\"></i></a></font></div>\n",
    "\n",
    "---"
   ]
  },
  {
   "cell_type": "markdown",
   "metadata": {},
   "source": [
    "<a id=\"section22\"></a>\n",
    "# <font color=\"#004D7F\" size=5>2.2. Ejemplo de uso de _GloVe_ preentrenado</font>"
   ]
  },
  {
   "cell_type": "markdown",
   "metadata": {},
   "source": [
    "Después de descargar y descomprimir, verá algunos archivos, uno de los cuales es `glove.6B.100d.txt`, que contiene una versión de 100 dimensiones de la incrustación. Si mira dentro del archivo, verá un token (palabra) seguido de los pesos (100 números) en cada línea. Por ejemplo, a continuación se muestra la primera línea del archivo de texto ASCII incrustado que muestra la incrustación.\n",
    "\n",
    "```text\n",
    "    the -0.038194 -0.24487 0.72812 -0.39961 0.083172 0.043953 -0.39141 0.3344 -0.57545 0.087459 0.28787 -0.06731 0.30906 -0.26384 -0.13231 -0.20757 0.33395 -0.33848 -0.31743 -0.48336 0.1464 -0.37304 0.34577 0.052041 0.44946 -0.46971 0.02628 -0.54155 -0.15518 -0.14107 -0.039722 0.28277 0.14393 0.23464 -0.31021 0.086173 0.20397 0.52624 0.17164 -0.082378 -0.71787 -0.41531 0.20335 -0.12763 0.41367 0.55187 0.57908 -0.33477 -0.36559 -0.54857 -0.062892 0.26584 0.30205 0.99775 -0.80481 -3.0243 0.01254 -0.36942 2.2167 0.72201 -0.24978 0.92136 0.034514 0.46745 1.1079 -0.19358 -0.074575 0.23353 -0.052062 -0.22044 0.057162 -0.15806 -0.30798 -0.41625 0.37972 0.15006 -0.53212 -0.2055 -1.2526 0.071624 0.70565 0.49744 -0.42063 0.26148 -1.538 -0.30223 -0.073438 -0.28312 0.37104 -0.25217 0.016215 -0.017099 -0.38984 0.87424 -0.72569 -0.51058 -0.52028 -0.1459 0.8278 0.27062\n",
    "```"
   ]
  },
  {
   "cell_type": "markdown",
   "metadata": {},
   "source": [
    "Como en la sección anterior, el primer paso es definir los ejemplos, codificarlos como números enteros y luego rellenar las secuencias para que tengan la misma longitud. \n",
    "\n",
    "En este caso, necesitamos poder mapear palabras a números enteros así como números enteros a palabras. Keras proporciona una clase `Tokenizer` que:\n",
    "- se puede ajustar a los datos de entrenamiento, \n",
    "- puede convertir texto en secuencias de manera consistente llamando al método `texts_to_functions()` en la clase `Tokenizer`, y \n",
    "- proporciona acceso a la asignación de palabras a números enteros del diccionario en un atributo de índice de palabra."
   ]
  },
  {
   "cell_type": "code",
   "execution_count": 24,
   "metadata": {},
   "outputs": [
    {
     "name": "stdout",
     "output_type": "stream",
     "text": [
      "[[6, 2], [3, 1], [7, 4], [8, 1], [9], [10], [5, 4], [11, 3], [5, 1], [12, 13, 2, 14]]\n",
      "[[ 6  2  0  0]\n",
      " [ 3  1  0  0]\n",
      " [ 7  4  0  0]\n",
      " [ 8  1  0  0]\n",
      " [ 9  0  0  0]\n",
      " [10  0  0  0]\n",
      " [ 5  4  0  0]\n",
      " [11  3  0  0]\n",
      " [ 5  1  0  0]\n",
      " [12 13  2 14]]\n"
     ]
    }
   ],
   "source": [
    "from numpy import array\n",
    "from numpy import asarray\n",
    "from numpy import zeros\n",
    "from tensorflow.keras.preprocessing.text import Tokenizer\n",
    "from tensorflow.keras.preprocessing.sequence import pad_sequences\n",
    "from tensorflow.keras.models import Sequential\n",
    "from tensorflow.keras.layers import Dense\n",
    "from tensorflow.keras.layers import Flatten\n",
    "from tensorflow.keras.layers import Embedding\n",
    "# define documents\n",
    "docs = ['Well done!',\n",
    "\t\t'Good work',\n",
    "\t\t'Great effort',\n",
    "\t\t'nice work',\n",
    "\t\t'Excellent!',\n",
    "\t\t'Weak',\n",
    "\t\t'Poor effort!',\n",
    "\t\t'not good',\n",
    "\t\t'poor work',\n",
    "\t\t'Could have done better.']\n",
    "# define class labels\n",
    "labels = array([1,1,1,1,1,0,0,0,0,0])\n",
    "# prepare tokenizer\n",
    "t = Tokenizer()\n",
    "t.fit_on_texts(docs)\n",
    "vocab_size = len(t.word_index) + 1\n",
    "# integer encode the documents\n",
    "encoded_docs = t.texts_to_sequences(docs)\n",
    "print(encoded_docs)\n",
    "# pad documents to a max length of 4 words\n",
    "max_length = 4\n",
    "padded_docs = pad_sequences(encoded_docs, maxlen=max_length, padding='post')\n",
    "print(padded_docs)"
   ]
  },
  {
   "cell_type": "markdown",
   "metadata": {},
   "source": [
    "A continuación, debemos cargar todo el archivo de Word Embeddings de _GloVe_ en la memoria como un diccionario de palabras para la matriz de incrustaciones."
   ]
  },
  {
   "cell_type": "code",
   "execution_count": 25,
   "metadata": {},
   "outputs": [
    {
     "name": "stdout",
     "output_type": "stream",
     "text": [
      "Loaded 400000 word vectors.\n"
     ]
    }
   ],
   "source": [
    "# load the whole embedding into memory\n",
    "embeddings_index = dict()\n",
    "f = open('data/glove.6B/glove.6B.100d.txt', mode='rt', encoding='utf-8')\n",
    "for line in f:\n",
    "\tvalues = line.split()\n",
    "\tword = values[0]\n",
    "\tcoefs = asarray(values[1:], dtype='float32')\n",
    "\tembeddings_index[word] = coefs\n",
    "f.close()\n",
    "print('Loaded %s word vectors.' % len(embeddings_index))"
   ]
  },
  {
   "cell_type": "markdown",
   "metadata": {},
   "source": [
    "A continuación, debemos crear una matriz de una incrustación para cada palabra en el conjunto de datos de entrenamiento. \n",
    "\n",
    "Podemos hacerlo enumerando todas las palabras únicas en `Tokenizer.word_index` y ubicando el vector de peso de incrustación de la incrustación de _GloVe_ cargada. \n",
    "\n",
    "El resultado es una matriz de pesos solo para palabras que veremos durante el entrenamiento."
   ]
  },
  {
   "cell_type": "code",
   "execution_count": 26,
   "metadata": {},
   "outputs": [],
   "source": [
    "# create a weight matrix for words in training docs\n",
    "embedding_matrix = zeros((vocab_size, 100))\n",
    "for word, i in t.word_index.items():\n",
    "\tembedding_vector = embeddings_index.get(word)\n",
    "\tif embedding_vector is not None:\n",
    "\t\tembedding_matrix[i] = embedding_vector"
   ]
  },
  {
   "cell_type": "markdown",
   "metadata": {},
   "source": [
    "Ahora podemos definir nuestro modelo, ajustarlo y evaluarlo como antes. \n",
    "- La diferencia clave es que la capa `Embedding` se puede establecer con los pesos de Word Embeddings de _GloVe_. \n",
    "- Elegimos la versión de 100 dimensiones, por lo tanto, la capa `Embedding` debe definirse con `output_dim` establecida en 100. \n",
    "- Finalmente, no queremos actualizar los pesos de las palabras aprendidas en este modelo, por lo tanto, estableceremos el atributo `trainable` para que el modelo sea `False`."
   ]
  },
  {
   "cell_type": "code",
   "execution_count": 27,
   "metadata": {},
   "outputs": [
    {
     "name": "stdout",
     "output_type": "stream",
     "text": [
      "Model: \"sequential_1\"\n",
      "_________________________________________________________________\n",
      " Layer (type)                Output Shape              Param #   \n",
      "=================================================================\n",
      " embedding_1 (Embedding)     (None, 4, 100)            1500      \n",
      "                                                                 \n",
      " flatten_1 (Flatten)         (None, 400)               0         \n",
      "                                                                 \n",
      " dense_1 (Dense)             (None, 1)                 401       \n",
      "                                                                 \n",
      "=================================================================\n",
      "Total params: 1,901\n",
      "Trainable params: 401\n",
      "Non-trainable params: 1,500\n",
      "_________________________________________________________________\n",
      "Accuracy: 100.000000\n"
     ]
    }
   ],
   "source": [
    "# define model\n",
    "model = Sequential()\n",
    "e = Embedding(vocab_size, 100, weights=[embedding_matrix], input_length=4, trainable=False)\n",
    "model.add(e)\n",
    "model.add(Flatten())\n",
    "model.add(Dense(1, activation='sigmoid'))\n",
    "# compile the model\n",
    "model.compile(optimizer='adam', loss='binary_crossentropy', metrics=['accuracy'])\n",
    "# summarize the model\n",
    "model.summary()\n",
    "# fit the model\n",
    "model.fit(padded_docs, labels, epochs=50, verbose=0)\n",
    "# evaluate the model\n",
    "loss, accuracy = model.evaluate(padded_docs, labels, verbose=0)\n",
    "print('Accuracy: %f' % (accuracy*100))"
   ]
  },
  {
   "cell_type": "markdown",
   "metadata": {},
   "source": [
    "---\n",
    "<div style=\"text-align: right\"> <font size=5> <a href=\"#indice\"><i class=\"fa fa-arrow-circle-up\" aria-hidden=\"true\" style=\"color:#004D7F\"></i></a></font></div>\n",
    "\n",
    "---"
   ]
  },
  {
   "cell_type": "markdown",
   "metadata": {},
   "source": [
    "<a id=\"sectionEJ\"></a>\n",
    "# <font color=\"#004D7F\" size=6><i class=\"fa fa-pencil-square-o\" aria-hidden=\"true\" style=\"color:#113D68\"></i>  Ejercicios</font>"
   ]
  },
  {
   "cell_type": "markdown",
   "metadata": {},
   "source": [
    "Vamos a realizar un ejemplo con Word2Vec. En este ejemplo se utiliza un conjunto de datos compuesto por gráficos de películas (en formato txt). El archivo se llama `movie_plots.txt`"
   ]
  },
  {
   "cell_type": "markdown",
   "metadata": {},
   "source": [
    "<a id=\"sectionEJ1\"></a>\n",
    "# <font color=\"#004D7F\" size=5>Ejercicio 1</font>"
   ]
  },
  {
   "cell_type": "markdown",
   "metadata": {},
   "source": [
    "Una vez descargado el conjunto de datos, hay que limpiarlo y preprocesarlo antes de generar las incrustaciones. \n",
    "\n",
    "El preprocesamiento incluye tareas como la tokenización, el minúsculas y la eliminación de palabras vacías. Gensim incluye un sencillo método de preprocesamiento que realiza estas tareas automáticamente `gensim.utils.simple_preprocessing(line)`.\n",
    "\n",
    "Crea una función que haga este procesamiento."
   ]
  },
  {
   "cell_type": "code",
   "execution_count": 2,
   "metadata": {},
   "outputs": [],
   "source": [
    "import gensim\n",
    "\n",
    "def process_input_file(input_file):\n",
    "  token_list=[]\n",
    "  with open(input_file,'r',encoding='utf-8',errors='ignore') as f:\n",
    "    for line in f:\n",
    "      token_list.append(gensim.utils.simple_preprocess(line))\n",
    "  return token_list\n",
    "\n",
    "documents=process_input_file(\"data/movie_plots.txt\")"
   ]
  },
  {
   "cell_type": "markdown",
   "metadata": {},
   "source": [
    "Una vez que se realiza este procesamiento previo, terminamos con una lista plana de tokens significativos, siguiendo el mismo orden de aparición que en los documentos de entrada. Esto asegura que se mantenga el contexto de la palabra. \n",
    "\n",
    "Para asegurarnos de que se cumple esta restricción, imprime la primera oración. Verifica que todos los tokens se han convertido a minúsculas y se han eliminado algunas palabras vacías. Aún así, el contexto de la oración original permanece."
   ]
  },
  {
   "cell_type": "code",
   "execution_count": 3,
   "metadata": {
    "scrolled": true
   },
   "outputs": [
    {
     "data": {
      "text/plain": [
       "['bartender',\n",
       " 'is',\n",
       " 'working',\n",
       " 'at',\n",
       " 'saloon',\n",
       " 'serving',\n",
       " 'drinks',\n",
       " 'to',\n",
       " 'customers',\n",
       " 'after',\n",
       " 'he',\n",
       " 'fills',\n",
       " 'stereotypically',\n",
       " 'irish',\n",
       " 'man',\n",
       " 'bucket',\n",
       " 'with',\n",
       " 'beer',\n",
       " 'carrie',\n",
       " 'nation',\n",
       " 'and',\n",
       " 'her',\n",
       " 'followers',\n",
       " 'burst',\n",
       " 'inside',\n",
       " 'they',\n",
       " 'assault',\n",
       " 'the',\n",
       " 'irish',\n",
       " 'man',\n",
       " 'pulling',\n",
       " 'his',\n",
       " 'hat',\n",
       " 'over',\n",
       " 'his',\n",
       " 'eyes',\n",
       " 'and',\n",
       " 'then',\n",
       " 'dumping',\n",
       " 'the',\n",
       " 'beer',\n",
       " 'over',\n",
       " 'his',\n",
       " 'head',\n",
       " 'the',\n",
       " 'group',\n",
       " 'then',\n",
       " 'begin',\n",
       " 'wrecking',\n",
       " 'the',\n",
       " 'bar',\n",
       " 'smashing',\n",
       " 'the',\n",
       " 'fixtures',\n",
       " 'mirrors',\n",
       " 'and',\n",
       " 'breaking',\n",
       " 'the',\n",
       " 'cash',\n",
       " 'register',\n",
       " 'the',\n",
       " 'bartender',\n",
       " 'then',\n",
       " 'sprays',\n",
       " 'seltzer',\n",
       " 'water',\n",
       " 'in',\n",
       " 'nation',\n",
       " 'face',\n",
       " 'before',\n",
       " 'group',\n",
       " 'of',\n",
       " 'policemen',\n",
       " 'appear',\n",
       " 'and',\n",
       " 'order',\n",
       " 'everybody',\n",
       " 'to',\n",
       " 'leave']"
      ]
     },
     "execution_count": 3,
     "metadata": {},
     "output_type": "execute_result"
    }
   ],
   "source": [
    "documents[1]"
   ]
  },
  {
   "cell_type": "markdown",
   "metadata": {},
   "source": [
    "<a id=\"sectionEJ2\"></a>\n",
    "# <font color=\"#004D7F\" size=5>Ejercicio 2</font>"
   ]
  },
  {
   "cell_type": "markdown",
   "metadata": {},
   "source": [
    "Una vez que tenemos nuestro documento tokenizado, podemos inicializar y entrenar nuestro modelo Word2Vec. Antes de entrenar el modelo, se deben definir ciertos parámetros:\n",
    "- __`vector_size`__: Dimensionalidad de los vectores de palabras. Debe ser coherente con la dimensionalidad del corpus del documento y el tamaño del vocabulario. **Como tenemos un corpus reducido, un tamaño de 100 debería ser adecuado para nuestro problema.**\n",
    "- __`window`__: Dimensión de la ventana de contexto. Debería ser suficiente para contextualizar una palabra. **En este ejemplo, usaremos un tamaño 10.**\n",
    "- __`min_count`__: Número mínimo de apariciones de una palabra en el corpus a considerar para la incrustación. **Consideraremos que al menos 3 repeticiones de una palabra son suficientes para ser incrustado**.\n",
    "- __`sg`__: Algoritmo de entrenamiento: 1 para skip-gram; 0 para CBOW. **Usaremos skip-gram**.\n",
    "- __`epochs`__: Número de iteraciones de entrenamiento. Haremos **5 iteraciones**.\n",
    "- __`seed`__: semilla de inicialización. Usaremos 1852 como nuestra semilla.\n",
    "\n",
    "Cree un objeto model llamadon a `Word2Vec` de Gensim con la configuración anterior y proceda a su entrenamiento con `train()`"
   ]
  },
  {
   "cell_type": "code",
   "execution_count": null,
   "metadata": {},
   "outputs": [],
   "source": [
    "w2v_model = gensim.models.Word2Vec(documents, vector_size=100, window=10, min_count=3, sg=1, epochs=4, seed=1852)"
   ]
  },
  {
   "cell_type": "code",
   "execution_count": 9,
   "metadata": {},
   "outputs": [
    {
     "data": {
      "text/plain": [
       "(10490560, 13824376)"
      ]
     },
     "execution_count": 9,
     "metadata": {},
     "output_type": "execute_result"
    }
   ],
   "source": [
    "w2v_model.train(documents, total_examples=w2v_model.corpus_count, epochs=w2v_model.epochs)"
   ]
  },
  {
   "cell_type": "markdown",
   "metadata": {},
   "source": [
    "Una vez que se ha entrenado el modelo, podemos extraer las incrustaciones de palabras generadas (en forma de un diccionario de Python) y consultarlas."
   ]
  },
  {
   "cell_type": "code",
   "execution_count": 10,
   "metadata": {},
   "outputs": [],
   "source": [
    "w2v_embeddings=w2v_model.wv"
   ]
  },
  {
   "cell_type": "markdown",
   "metadata": {},
   "source": [
    "<a id=\"sectionEJ3\"></a>\n",
    "# <font color=\"#004D7F\" size=5>Ejercicio 3</font>"
   ]
  },
  {
   "cell_type": "markdown",
   "metadata": {},
   "source": [
    "Con las incrustaciones extraídas, podemos realizar ciertas operaciones como:\n",
    "\n",
    "**Preguntar por la palabra más parecida a una palabra dada**"
   ]
  },
  {
   "cell_type": "code",
   "execution_count": 11,
   "metadata": {},
   "outputs": [
    {
     "data": {
      "text/plain": [
       "[('dancer', 0.7542173862457275),\n",
       " ('performer', 0.7404608130455017),\n",
       " ('nightclub', 0.7175503373146057),\n",
       " ('soprano', 0.7144984006881714),\n",
       " ('starlet', 0.7025715708732605),\n",
       " ('superstar', 0.7015737295150757),\n",
       " ('ingenue', 0.6971699595451355),\n",
       " ('blondell', 0.691870391368866),\n",
       " ('sultry', 0.6902326345443726),\n",
       " ('vocalist', 0.6848028898239136)]"
      ]
     },
     "execution_count": 11,
     "metadata": {},
     "output_type": "execute_result"
    }
   ],
   "source": [
    "word=\"singer\"\n",
    "w2v_embeddings.most_similar(positive=word)"
   ]
  },
  {
   "cell_type": "markdown",
   "metadata": {},
   "source": [
    "Si solo queremos obtener las _N_ palabras más similares, entonces:"
   ]
  },
  {
   "cell_type": "code",
   "execution_count": 12,
   "metadata": {},
   "outputs": [
    {
     "data": {
      "text/plain": [
       "[('dogs', 0.6922426819801331),\n",
       " ('stray', 0.6798008680343628),\n",
       " ('puppy', 0.6707093715667725)]"
      ]
     },
     "execution_count": 12,
     "metadata": {},
     "output_type": "execute_result"
    }
   ],
   "source": [
    "word=[\"dog\"]\n",
    "n=3\n",
    "w2v_embeddings.most_similar(positive=word,topn=n)"
   ]
  },
  {
   "cell_type": "markdown",
   "metadata": {},
   "source": [
    "<a id=\"sectionEJ4\"></a>\n",
    "# <font color=\"#004D7F\" size=5>Ejercicio 4</font>"
   ]
  },
  {
   "cell_type": "markdown",
   "metadata": {},
   "source": [
    "**Medir la similitud entre pares de palabras**\n",
    "\n",
    "Dadas dos palabras existentes en el corpus, podemos medir la similitud existente entre las dos. Si el modelo se entrena adecuadamente, las palabras que se refieren a conceptos similares, como los sinónimos, deberían obtener puntajes altos de similitud.\n",
    "\n",
    "Mide la similitud entre _movie_ y _film_"
   ]
  },
  {
   "cell_type": "code",
   "execution_count": 18,
   "metadata": {},
   "outputs": [
    {
     "data": {
      "text/plain": [
       "0.82893413"
      ]
     },
     "execution_count": 18,
     "metadata": {},
     "output_type": "execute_result"
    }
   ],
   "source": [
    "word1=\"movie\"\n",
    "word2=\"film\"\n",
    "w2v_embeddings.similarity(word1,word2)"
   ]
  },
  {
   "cell_type": "markdown",
   "metadata": {},
   "source": [
    "Por el contrario, los antónimos deberían recibir puntuaciones bajas.\n",
    "\n",
    "Mide la similitud entre _great_ y _awful_"
   ]
  },
  {
   "cell_type": "code",
   "execution_count": 19,
   "metadata": {},
   "outputs": [
    {
     "data": {
      "text/plain": [
       "0.32233217"
      ]
     },
     "execution_count": 19,
     "metadata": {},
     "output_type": "execute_result"
    }
   ],
   "source": [
    "word1=\"great\"\n",
    "word2=\"awful\"\n",
    "w2v_embeddings.similarity(word1,word2)"
   ]
  },
  {
   "cell_type": "markdown",
   "metadata": {},
   "source": [
    "<a id=\"sectionEJ5\"></a>\n",
    "# <font color=\"#004D7F\" size=5>Ejercicio 5</font>"
   ]
  },
  {
   "cell_type": "markdown",
   "metadata": {},
   "source": [
    "**Recuperar el Embedding de una palabra dada**\n",
    "\n",
    "Hay dos formas de recuperar el vector de una palabra. La primera forma es usando el método integrado `get_vector()`. Este modelo devuelve la incrustación asociada con la palabra de entrada si existe en el vocabulario y el error en caso contrario.\n",
    "\n",
    "Utilícelo para la palabra beach"
   ]
  },
  {
   "cell_type": "code",
   "execution_count": 20,
   "metadata": {},
   "outputs": [
    {
     "data": {
      "text/plain": [
       "array([-0.09560033, -0.03120027,  0.0207166 , -0.42926332, -0.01053735,\n",
       "        0.26626188,  0.20543277, -0.00266073, -0.19645952, -0.1586069 ,\n",
       "       -0.47515127,  0.29729855, -0.61440504,  0.21458566, -0.18524756,\n",
       "       -0.08926032, -0.14477904,  0.343519  , -0.00412936,  0.25272048,\n",
       "       -0.07780255, -0.06647279,  0.08216458,  0.01228995, -0.09513793,\n",
       "       -0.3859143 , -0.30906942, -0.26056147, -0.09905334,  0.25973257,\n",
       "        0.03177204, -0.2140215 , -0.1159922 ,  0.52084816, -0.01291936,\n",
       "        0.01037219,  0.09694981, -0.3663353 ,  0.3576129 ,  0.38664055,\n",
       "       -0.3601496 ,  0.13518448, -0.7304878 , -0.23689681,  0.05383343,\n",
       "       -0.09771732,  0.32411745, -0.9362737 , -0.4343401 , -0.07585958,\n",
       "       -0.00978419, -0.33632115,  0.02170849, -0.297619  ,  0.2529543 ,\n",
       "        0.25787318,  0.16942401,  0.22072574,  0.00362314, -0.17207937,\n",
       "        1.014553  , -0.05233747, -0.00123477, -0.00227715,  0.2380213 ,\n",
       "       -0.18401477, -0.3446305 , -0.14515032,  0.01325089,  0.05532356,\n",
       "        0.04041756,  0.2196228 , -0.11911522,  0.20619665, -0.49360922,\n",
       "        0.08794107,  0.5236747 , -0.01504897,  0.03828515,  0.10999516,\n",
       "       -0.03123301,  0.652125  ,  0.35633746,  0.04880004, -0.36888918,\n",
       "       -0.27168915, -0.12702961, -0.45935673,  0.06548139,  0.20656314,\n",
       "        0.273815  ,  0.15446311,  0.05488523, -0.26542625, -0.08862077,\n",
       "        0.45461702, -0.22734793, -0.43514943, -0.11305104,  0.10973048],\n",
       "      dtype=float32)"
      ]
     },
     "execution_count": 20,
     "metadata": {},
     "output_type": "execute_result"
    }
   ],
   "source": [
    "word=\"beach\"\n",
    "w2v_embeddings.get_vector(word)"
   ]
  },
  {
   "cell_type": "markdown",
   "metadata": {},
   "source": [
    "Teniendo en cuenta que las incrustaciones de palabras se almacenan en forma de diccionario compuesto por tuplas _(palabra, vector)_, donde las palabras sirven como claves, obten el embedding de _beach_:"
   ]
  },
  {
   "cell_type": "code",
   "execution_count": 21,
   "metadata": {},
   "outputs": [
    {
     "data": {
      "text/plain": [
       "array([-0.09560033, -0.03120027,  0.0207166 , -0.42926332, -0.01053735,\n",
       "        0.26626188,  0.20543277, -0.00266073, -0.19645952, -0.1586069 ,\n",
       "       -0.47515127,  0.29729855, -0.61440504,  0.21458566, -0.18524756,\n",
       "       -0.08926032, -0.14477904,  0.343519  , -0.00412936,  0.25272048,\n",
       "       -0.07780255, -0.06647279,  0.08216458,  0.01228995, -0.09513793,\n",
       "       -0.3859143 , -0.30906942, -0.26056147, -0.09905334,  0.25973257,\n",
       "        0.03177204, -0.2140215 , -0.1159922 ,  0.52084816, -0.01291936,\n",
       "        0.01037219,  0.09694981, -0.3663353 ,  0.3576129 ,  0.38664055,\n",
       "       -0.3601496 ,  0.13518448, -0.7304878 , -0.23689681,  0.05383343,\n",
       "       -0.09771732,  0.32411745, -0.9362737 , -0.4343401 , -0.07585958,\n",
       "       -0.00978419, -0.33632115,  0.02170849, -0.297619  ,  0.2529543 ,\n",
       "        0.25787318,  0.16942401,  0.22072574,  0.00362314, -0.17207937,\n",
       "        1.014553  , -0.05233747, -0.00123477, -0.00227715,  0.2380213 ,\n",
       "       -0.18401477, -0.3446305 , -0.14515032,  0.01325089,  0.05532356,\n",
       "        0.04041756,  0.2196228 , -0.11911522,  0.20619665, -0.49360922,\n",
       "        0.08794107,  0.5236747 , -0.01504897,  0.03828515,  0.10999516,\n",
       "       -0.03123301,  0.652125  ,  0.35633746,  0.04880004, -0.36888918,\n",
       "       -0.27168915, -0.12702961, -0.45935673,  0.06548139,  0.20656314,\n",
       "        0.273815  ,  0.15446311,  0.05488523, -0.26542625, -0.08862077,\n",
       "        0.45461702, -0.22734793, -0.43514943, -0.11305104,  0.10973048],\n",
       "      dtype=float32)"
      ]
     },
     "execution_count": 21,
     "metadata": {},
     "output_type": "execute_result"
    }
   ],
   "source": [
    "w2v_embeddings['beach']"
   ]
  },
  {
   "cell_type": "markdown",
   "metadata": {},
   "source": [
    "<a id=\"sectionEJ6\"></a>\n",
    "# <font color=\"#004D7F\" size=5>Ejercicio 6</font>"
   ]
  },
  {
   "cell_type": "markdown",
   "metadata": {},
   "source": [
    "**Obtener la palabra más cercana a un vector dado**\n",
    "\n",
    "Como las palabras se representan en un espacio vectorial, podemos realizar ciertas operaciones, como la suma o la resta, que también dan como resultado vectores. Como estas operaciones se basan en la intuición y, por lo tanto, no son exactas, el resultado de una operación como esta no está relacionado directamente con una palabra. \n",
    "\n",
    "Podemos obtener la palabra más cercana a un vector dado con las palabras _music_ y _film_"
   ]
  },
  {
   "cell_type": "code",
   "execution_count": 22,
   "metadata": {},
   "outputs": [
    {
     "data": {
      "text/plain": [
       "[('music', 0.8176624774932861),\n",
       " ('film', 0.8093442320823669),\n",
       " ('documentary', 0.7606794834136963),\n",
       " ('soundtrack', 0.7596319913864136),\n",
       " ('gershwin', 0.7518333792686462),\n",
       " ('movie', 0.7400728464126587),\n",
       " ('previn', 0.7384520173072815),\n",
       " ('theme', 0.7379338145256042),\n",
       " ('tchaikovsky', 0.7372975945472717),\n",
       " ('montage', 0.7340453863143921)]"
      ]
     },
     "execution_count": 22,
     "metadata": {},
     "output_type": "execute_result"
    }
   ],
   "source": [
    "vector1=w2v_embeddings['music']\n",
    "vector2=w2v_embeddings['film']\n",
    "operation=vector1+vector2\n",
    "w2v_embeddings.similar_by_vector(operation)"
   ]
  },
  {
   "cell_type": "markdown",
   "metadata": {},
   "source": [
    "<a id=\"sectionEJ7\"></a>\n",
    "# <font color=\"#004D7F\" size=5>Ejercicio 7</font>"
   ]
  },
  {
   "cell_type": "markdown",
   "metadata": {},
   "source": [
    "**Detectar términos inadecuados en una lista de palabras**\n",
    "\n",
    "Dada una lista de palabras, podemos identificar cuál de ellas no está relacionada con el resto usando la función integrada `doesnt_match()`. Vea la salida para el siguiente vector: \n",
    "```python\n",
    "word_list=['cat','dog','mouse','actress','bird']\n",
    "```"
   ]
  },
  {
   "cell_type": "code",
   "execution_count": 23,
   "metadata": {},
   "outputs": [
    {
     "data": {
      "text/plain": [
       "'actress'"
      ]
     },
     "execution_count": 23,
     "metadata": {},
     "output_type": "execute_result"
    }
   ],
   "source": [
    "word_list=['cat','dog','mouse','actress','bird']\n",
    "w2v_embeddings.doesnt_match(word_list)"
   ]
  },
  {
   "cell_type": "markdown",
   "metadata": {},
   "source": [
    "<a id=\"sectionEJ8\"></a>\n",
    "# <font color=\"#004D7F\" size=5>Ejercicio 8</font>"
   ]
  },
  {
   "cell_type": "markdown",
   "metadata": {},
   "source": [
    "**Realizar analogías entre palabras**\n",
    "\n",
    "Una de las mayores mejoras introducidas por Word2Vec fue la capacidad de realizar analogías entre palabras. Esta propiedad no solo pone en evidencia la calidad de las incrustaciones generadas por el modelo, sino que permite la representación **aproximada** de palabras que no se ven durante el entrenamiento.\n",
    "\n",
    "Utilícelo con las siguientes palabras: _cat_, _cats_ y _mouse_"
   ]
  },
  {
   "cell_type": "code",
   "execution_count": 24,
   "metadata": {
    "scrolled": true
   },
   "outputs": [
    {
     "data": {
      "text/plain": [
       "[('cats', 0.8237479329109192),\n",
       " ('cat', 0.6796796321868896),\n",
       " ('mice', 0.6646682024002075),\n",
       " ('garon', 0.6154602766036987),\n",
       " ('dogs', 0.6033499836921692),\n",
       " ('felines', 0.600951611995697),\n",
       " ('mutt', 0.600653350353241),\n",
       " ('shrug', 0.5995326042175293),\n",
       " ('duplicates', 0.5964731574058533),\n",
       " ('canary', 0.5950862169265747)]"
      ]
     },
     "execution_count": 24,
     "metadata": {},
     "output_type": "execute_result"
    }
   ],
   "source": [
    "word1=w2v_embeddings['cat']\n",
    "word2=w2v_embeddings['cats']\n",
    "word3=w2v_embeddings['mouse']\n",
    "operation=word1-word3+word2\n",
    "w2v_embeddings.similar_by_vector(operation)"
   ]
  },
  {
   "cell_type": "markdown",
   "metadata": {},
   "source": [
    "Una forma más limpia y rápida de realizar inferencia analógica es:"
   ]
  },
  {
   "cell_type": "code",
   "execution_count": 25,
   "metadata": {},
   "outputs": [
    {
     "data": {
      "text/plain": [
       "[('mice', 0.7246355414390564),\n",
       " ('canary', 0.6622194647789001),\n",
       " ('shrug', 0.6573811769485474),\n",
       " ('felines', 0.65106600522995),\n",
       " ('duplicates', 0.6507408022880554),\n",
       " ('kennel', 0.6485415697097778),\n",
       " ('feline', 0.6468013525009155),\n",
       " ('canine', 0.6461802124977112),\n",
       " ('dogs', 0.6455145478248596),\n",
       " ('garon', 0.6414704918861389)]"
      ]
     },
     "execution_count": 25,
     "metadata": {},
     "output_type": "execute_result"
    }
   ],
   "source": [
    "w2v_embeddings.most_similar(positive=['cat', 'cats'], negative=['mouse'])"
   ]
  },
  {
   "cell_type": "markdown",
   "metadata": {},
   "source": [
    "<div style=\"text-align: right\"> <font size=5> <a href=\"#indice\"><i class=\"fa fa-arrow-circle-up\" aria-hidden=\"true\" style=\"color:#004D7F\"></i></a></font></div>\n",
    "\n",
    "---\n",
    "\n",
    "<div style=\"text-align: right\"> <font size=6><i class=\"fa fa-coffee\" aria-hidden=\"true\" style=\"color:#004D7F\"></i> </font></div>"
   ]
  }
 ],
 "metadata": {
  "kernelspec": {
   "display_name": "Python 3 (ipykernel)",
   "language": "python",
   "name": "python3"
  },
  "language_info": {
   "codemirror_mode": {
    "name": "ipython",
    "version": 3
   },
   "file_extension": ".py",
   "mimetype": "text/x-python",
   "name": "python",
   "nbconvert_exporter": "python",
   "pygments_lexer": "ipython3",
   "version": "3.8.10"
  }
 },
 "nbformat": 4,
 "nbformat_minor": 2
}
