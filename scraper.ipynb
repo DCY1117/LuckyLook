{
 "cells": [
  {
   "cell_type": "code",
   "execution_count": 1,
   "metadata": {},
   "outputs": [
    {
     "name": "stdout",
     "output_type": "stream",
     "text": [
      "Requirement already satisfied: beautifulsoup4 in /home/manwest/Documentos/Jupyter/jupyterEnv/lib/python3.8/site-packages (4.11.1)\n",
      "Requirement already satisfied: soupsieve>1.2 in /home/manwest/Documentos/Jupyter/jupyterEnv/lib/python3.8/site-packages (from beautifulsoup4) (2.3.2.post1)\n",
      "\n",
      "\u001b[1m[\u001b[0m\u001b[34;49mnotice\u001b[0m\u001b[1;39;49m]\u001b[0m\u001b[39;49m A new release of pip available: \u001b[0m\u001b[31;49m22.3.1\u001b[0m\u001b[39;49m -> \u001b[0m\u001b[32;49m23.0\u001b[0m\n",
      "\u001b[1m[\u001b[0m\u001b[34;49mnotice\u001b[0m\u001b[1;39;49m]\u001b[0m\u001b[39;49m To update, run: \u001b[0m\u001b[32;49mpip install --upgrade pip\u001b[0m\n",
      "Note: you may need to restart the kernel to use updated packages.\n"
     ]
    }
   ],
   "source": [
    "\n",
    "%pip install beautifulsoup4"
   ]
  },
  {
   "cell_type": "code",
   "execution_count": 2,
   "metadata": {},
   "outputs": [],
   "source": [
    "import requests\n",
    "from bs4 import BeautifulSoup"
   ]
  },
  {
   "cell_type": "code",
   "execution_count": 3,
   "metadata": {},
   "outputs": [],
   "source": [
    "def find_journal(PMID):\n",
    "    '''\n",
    "    input: PMID, the key of an article the pubmedake dataset\n",
    "    return: the journal name of the article\n",
    "    '''\n",
    "    PMCURL = \"https://www.ncbi.nlm.nih.gov/pmc/articles/{}/\".format(PMID)\n",
    "    # add header to prevent PMC from blocking the request\n",
    "    headers = requests.utils.default_headers()\n",
    "    headers.update({\n",
    "        'User-Agent': 'Mozilla/5.0 (X11; Ubuntu; Linux x86_64; rv:52.0) Gecko/20100101 Firefox/52.0',\n",
    "    })\n",
    "\n",
    "    page = requests.get(PMCURL,headers = headers)\n",
    "    soup = BeautifulSoup(page.content, \"html.parser\")\n",
    "    result = soup.find(\"ul\", class_=\"usa-breadcrumb__list\")\n",
    "    return result.findAll(\"a\")[1].text\n"
   ]
  },
  {
   "cell_type": "code",
   "execution_count": 4,
   "metadata": {},
   "outputs": [
    {
     "name": "stdout",
     "output_type": "stream",
     "text": [
      "Int J Mol Sci\n"
     ]
    }
   ],
   "source": [
    "# an test example\n",
    "pmid = 'PMC8910031'\n",
    "print(find_journal(pmid))"
   ]
  },
  {
   "cell_type": "code",
   "execution_count": null,
   "metadata": {},
   "outputs": [],
   "source": [
    "'''\n",
    "How to use:\n",
    "\n",
    "import pubmedake\n",
    "\n",
    "data = pubmedake.read_pubmedake(\"data/sample_1000.json\")\n",
    "\n",
    "# data is a dictionary with all of the data \n",
    "for pmid, body in data.items():\n",
    "    abstract    = body['abstract']\n",
    "    title       = body['title']\n",
    "    kwds_in     = body['keywords_in']\n",
    "    kwds_not_in = body['keywords_not_in']\n",
    "    journal     = find_journal(pmid) # just add the pmid into the input\n",
    "\n",
    "'''"
   ]
  }
 ],
 "metadata": {
  "kernelspec": {
   "display_name": "Python 3 (ipykernel)",
   "language": "python",
   "name": "python3"
  },
  "language_info": {
   "codemirror_mode": {
    "name": "ipython",
    "version": 3
   },
   "file_extension": ".py",
   "mimetype": "text/x-python",
   "name": "python",
   "nbconvert_exporter": "python",
   "pygments_lexer": "ipython3",
   "version": "3.8.10"
  },
  "vscode": {
   "interpreter": {
    "hash": "239576f7721fd5702e3bd9d226b62e2afc1bb65a1775c7c59f7b12129f1d5b1d"
   }
  }
 },
 "nbformat": 4,
 "nbformat_minor": 2
}
